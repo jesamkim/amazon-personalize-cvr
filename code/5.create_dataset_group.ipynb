{
 "cells": [
  {
   "cell_type": "markdown",
   "id": "65c0f24b-8a60-4a0a-ba27-b1c7d54b209e",
   "metadata": {},
   "source": [
    "# [Module 5] Create Dataset Group\n",
    "\n",
    "\n",
    "* IAM Role 생성 및 권한 할당\n",
    "    - Personalize 서비스가 사용할 역할을 생성 및 권한을 할당 합니다.\n",
    "* 데이타 세트 그룹 생성 (DatasetGroup)    \n",
    "* 데이타 스키마 생성\n",
    "* 데이타 세트 생성 (Dataset)\n",
    "* 데이타 Import (S3 --> Personalize 서비스로 다운로드)\n",
    "\n",
    "---"
   ]
  },
  {
   "cell_type": "markdown",
   "id": "eebf84e0-6429-4f37-bd35-d4bcd910c875",
   "metadata": {
    "tags": []
   },
   "source": [
    "# 0. 환경 설정"
   ]
  },
  {
   "cell_type": "code",
   "execution_count": 1,
   "id": "bb652a88-47d5-4956-ba29-b9a11f66963e",
   "metadata": {
    "tags": []
   },
   "outputs": [],
   "source": [
    "# Imports\n",
    "import boto3\n",
    "import json\n",
    "import numpy as np\n",
    "import pandas as pd\n",
    "import time\n",
    "from datetime import datetime\n",
    "\n",
    "import matplotlib.pyplot as plt\n",
    "from matplotlib.dates import DateFormatter\n",
    "import matplotlib.dates as mdate\n",
    "from botocore.exceptions import ClientError"
   ]
  },
  {
   "cell_type": "markdown",
   "id": "60c45a19-5926-44ad-84f7-654f82ae68ea",
   "metadata": {},
   "source": [
    "다음으로 여러분의 환경이 Amazon Personalize와 성공적으로 통신할 수 있는지 확인해야 합니다."
   ]
  },
  {
   "cell_type": "code",
   "execution_count": 2,
   "id": "b211f1c3-5e1d-4370-bddd-0aba90eb0b4b",
   "metadata": {},
   "outputs": [],
   "source": [
    "# Configure the SDK to Personalize:\n",
    "personalize = boto3.client('personalize')"
   ]
  },
  {
   "cell_type": "markdown",
   "id": "8f3f3987-7572-4aa5-a46e-185e03c497e7",
   "metadata": {},
   "source": [
    "생성할 오브젝트의 끝에 임의의 숫자를 부여하기 위해 suffix 정의"
   ]
  },
  {
   "cell_type": "code",
   "execution_count": 3,
   "id": "fee04788-c0dc-41bf-98e1-bc76527e5bf6",
   "metadata": {},
   "outputs": [],
   "source": [
    "suffix = str(np.random.uniform())[4:9]"
   ]
  },
  {
   "cell_type": "code",
   "execution_count": 4,
   "id": "7872a166-b1de-4a80-afb1-9e9ed5de56d2",
   "metadata": {},
   "outputs": [],
   "source": [
    "%store -r"
   ]
  },
  {
   "cell_type": "markdown",
   "id": "09ae1283-9535-4982-82df-0e960ea63aeb",
   "metadata": {
    "tags": []
   },
   "source": [
    "## 1. Personalize Service의 S3 접근 권한\n",
    "Personalize Service 는 해당 S3 버킷에 접근하기 위해서 권한"
   ]
  },
  {
   "cell_type": "code",
   "execution_count": 5,
   "id": "c1c59dc5-af11-49b7-b6d6-82a6ed886c4c",
   "metadata": {},
   "outputs": [
    {
     "data": {
      "text/plain": [
       "{'ResponseMetadata': {'RequestId': 'G0GHQPG95DHFGYTD',\n",
       "  'HostId': '417v8TJOr9fJrBS0h5hb7aXj6hN2GAxt63H9++llaz3DSkPHKPbuA7+ZgHxLeJonnOJFKFKa43k=',\n",
       "  'HTTPStatusCode': 204,\n",
       "  'HTTPHeaders': {'x-amz-id-2': '417v8TJOr9fJrBS0h5hb7aXj6hN2GAxt63H9++llaz3DSkPHKPbuA7+ZgHxLeJonnOJFKFKa43k=',\n",
       "   'x-amz-request-id': 'G0GHQPG95DHFGYTD',\n",
       "   'date': 'Mon, 06 Mar 2023 08:48:28 GMT',\n",
       "   'server': 'AmazonS3'},\n",
       "  'RetryAttempts': 0}}"
      ]
     },
     "execution_count": 5,
     "metadata": {},
     "output_type": "execute_result"
    }
   ],
   "source": [
    "s3 = boto3.client(\"s3\")\n",
    "\n",
    "policy = {\n",
    "    \"Version\": \"2012-10-17\",\n",
    "    \"Id\": \"PersonalizeS3BucketAccessPolicy\",\n",
    "    \"Statement\": [\n",
    "        {\n",
    "            \"Sid\": \"PersonalizeS3BucketAccessPolicy\",\n",
    "            \"Effect\": \"Allow\",\n",
    "            \"Principal\": {\n",
    "                \"Service\": \"personalize.amazonaws.com\"\n",
    "            },\n",
    "            \"Action\": [\n",
    "                \"s3:*\",\n",
    "            ],\n",
    "            \"Resource\": [\n",
    "                \"arn:aws:s3:::{}\".format(bucket),\n",
    "                \"arn:aws:s3:::{}/*\".format(bucket)\n",
    "            ]\n",
    "        }\n",
    "    ]\n",
    "}\n",
    "\n",
    "s3.put_bucket_policy(Bucket=bucket, Policy=json.dumps(policy))"
   ]
  },
  {
   "cell_type": "markdown",
   "id": "3e3e9fb5-ce51-4f32-9105-d09f88fce542",
   "metadata": {},
   "source": [
    "## Personalize IAM Role\n",
    "\n",
    "또한, Amazon Personalize는 특정 작업들을 실행할 권한을 갖기 위해, AWS에서 역할을 맡을 수 있는 기능이 필요합니다. \n",
    "예를 들어 Personalize 는 S3에 접근을 해야 합니다. 그래서 이를 위한 역할이 필요하고, 이 역할은 S3 접근 권한이 필요 합니다."
   ]
  },
  {
   "cell_type": "code",
   "execution_count": 6,
   "id": "c62e9b63-f57f-4fab-ad62-e2529f274cd4",
   "metadata": {},
   "outputs": [
    {
     "name": "stdout",
     "output_type": "stream",
     "text": [
      "arn:aws:iam::376278017302:role/service-role/AmazonSageMaker-ExecutionRole-20230112T204234\n"
     ]
    }
   ],
   "source": [
    "# 이미 기존에 사용하신 Role 이 있으면 아래와 Role ARN 을 넣고 사용함.\n",
    "\n",
    "role_arn = \"arn:aws:iam::376278017302:role/service-role/AmazonSageMaker-ExecutionRole-20230112T204234\"\n",
    "print(role_arn)"
   ]
  },
  {
   "cell_type": "markdown",
   "id": "6fae673b-0709-49e8-b3cc-f256183e9d88",
   "metadata": {},
   "source": [
    "## 2. 데이터 세트 그룹 생성 및 대기\n",
    "\n",
    "Personalize에서 가장 큰 단위는 **데이터 세트 그룹(Dataset Group)** 이며, 이렇게 하면 데이터, 이벤트 추적기(event tracker), 솔루션(solution) 및 캠페인(campaign)이 분리됩니다. 공통의 데이터 수집을 공유하는 것들을 그룹화합니다. 원하는 경우 아래 그룹명을 자유롭게 변경해 주세요."
   ]
  },
  {
   "cell_type": "markdown",
   "id": "b227d7f9-b22e-4337-930d-ffd3a8c64c6f",
   "metadata": {},
   "source": [
    "### 2.1 데이터 세트 그룹 생성 - Base 데이터셋"
   ]
  },
  {
   "cell_type": "code",
   "execution_count": 7,
   "id": "95de19a4-62bb-4246-90c4-b2172c22df6b",
   "metadata": {},
   "outputs": [],
   "source": [
    "create_base_dataset_group_response = personalize.create_dataset_group(\n",
    "    name = \"RetailDemo-base-dataset-group\"\n",
    ")"
   ]
  },
  {
   "cell_type": "code",
   "execution_count": 8,
   "id": "5b623511-4f32-43b3-9089-64ea4a2e89e6",
   "metadata": {},
   "outputs": [
    {
     "data": {
      "text/plain": [
       "'arn:aws:personalize:us-east-1:376278017302:dataset-group/RetailDemo-base-dataset-group'"
      ]
     },
     "execution_count": 8,
     "metadata": {},
     "output_type": "execute_result"
    }
   ],
   "source": [
    "base_dataset_group_arn = create_base_dataset_group_response['datasetGroupArn']\n",
    "base_dataset_group_arn"
   ]
  },
  {
   "cell_type": "markdown",
   "id": "d9cb33df-aa0e-4385-89d0-261903879e07",
   "metadata": {},
   "source": [
    "#### 데이터 세트 그룹이 활성화 상태가 될 때까지 대기\n",
    "\n",
    "아래의 모든 항목에서 Dataset Group을 사용하려면 활성화(active)가 되어야 합니다. 아래 셀을 실행하고 DatasetGroup: ACTIVE로 변경될 때까지 기다려 주세요."
   ]
  },
  {
   "cell_type": "code",
   "execution_count": 10,
   "id": "3c0baaba-342a-43aa-ad07-8eec83d51ec5",
   "metadata": {},
   "outputs": [
    {
     "name": "stdout",
     "output_type": "stream",
     "text": [
      "Base-DatasetGroup: ACTIVE\n"
     ]
    }
   ],
   "source": [
    "max_time = time.time() + 3*60*60 # 3 hours\n",
    "while time.time() < max_time:\n",
    "    describe_dataset_group_response = personalize.describe_dataset_group(\n",
    "        datasetGroupArn = base_dataset_group_arn\n",
    "    )\n",
    "    status = describe_dataset_group_response[\"datasetGroup\"][\"status\"]\n",
    "    print(\"Base-DatasetGroup: {}\".format(status))\n",
    "    \n",
    "    if status == \"ACTIVE\" or status == \"CREATE FAILED\":\n",
    "        break\n",
    "        \n",
    "    time.sleep(15)"
   ]
  },
  {
   "cell_type": "markdown",
   "id": "dbd714a6-63d3-4c40-93a9-ab31fb47ab1c",
   "metadata": {},
   "source": [
    "### 2.2 데이터 세트 그룹 생성 - CVR 적용 데이터셋"
   ]
  },
  {
   "cell_type": "code",
   "execution_count": 11,
   "id": "b036b265-7a50-4772-8168-9f6bd06af1d3",
   "metadata": {},
   "outputs": [],
   "source": [
    "create_cvr_dataset_group_response = personalize.create_dataset_group(\n",
    "    name = \"RetailDemo-cvr-dataset-group\"\n",
    ")"
   ]
  },
  {
   "cell_type": "code",
   "execution_count": 12,
   "id": "b7ff8eea-67e0-49b2-a286-34dd31ad76df",
   "metadata": {},
   "outputs": [
    {
     "data": {
      "text/plain": [
       "'arn:aws:personalize:us-east-1:376278017302:dataset-group/RetailDemo-cvr-dataset-group'"
      ]
     },
     "execution_count": 12,
     "metadata": {},
     "output_type": "execute_result"
    }
   ],
   "source": [
    "cvr_dataset_group_arn = create_cvr_dataset_group_response['datasetGroupArn']\n",
    "cvr_dataset_group_arn"
   ]
  },
  {
   "cell_type": "markdown",
   "id": "6ecc726e-a107-42b2-a783-9b385170f384",
   "metadata": {},
   "source": [
    "#### 데이터 세트 그룹이 활성화 상태가 될 때까지 대기\n",
    "\n",
    "아래의 모든 항목에서 Dataset Group을 사용하려면 활성화(active)가 되어야 합니다. 아래 셀을 실행하고 DatasetGroup: ACTIVE로 변경될 때까지 기다려 주세요."
   ]
  },
  {
   "cell_type": "code",
   "execution_count": 13,
   "id": "eb1b3cc4-b4dc-4768-8c49-f6a56347945c",
   "metadata": {},
   "outputs": [
    {
     "name": "stdout",
     "output_type": "stream",
     "text": [
      "CVR-DatasetGroup: CREATE PENDING\n",
      "CVR-DatasetGroup: CREATE PENDING\n",
      "CVR-DatasetGroup: ACTIVE\n"
     ]
    }
   ],
   "source": [
    "max_time = time.time() + 3*60*60 # 3 hours\n",
    "while time.time() < max_time:\n",
    "    describe_dataset_group_response = personalize.describe_dataset_group(\n",
    "        datasetGroupArn = cvr_dataset_group_arn\n",
    "    )\n",
    "    status = describe_dataset_group_response[\"datasetGroup\"][\"status\"]\n",
    "    print(\"CVR-DatasetGroup: {}\".format(status))\n",
    "    \n",
    "    if status == \"ACTIVE\" or status == \"CREATE FAILED\":\n",
    "        break\n",
    "        \n",
    "    time.sleep(15)"
   ]
  },
  {
   "cell_type": "markdown",
   "id": "6318f023-5c70-4f8c-a5fa-59012273bd08",
   "metadata": {},
   "source": [
    "## 3. 스키마 생성\n",
    "\n",
    "Personalize가 데이터를 이해하는 방법의 핵심 구성 요소는 아래 정의 된 스키마(schema)에서 비롯됩니다. 이 설정은 CSV 파일을 통해 제공된 데이터를 요약하는 방법을 Personalize 서비스에 알려줍니다. 열(column)과 유형(type)은 위에서 만든 파일의 내용과 일치합니다."
   ]
  },
  {
   "cell_type": "markdown",
   "id": "8bd2d222-90ac-4e42-b674-2e687ad9c688",
   "metadata": {},
   "source": [
    "### 3.1 인터렉션"
   ]
  },
  {
   "cell_type": "code",
   "execution_count": 14,
   "id": "9aa13efd-58f4-43ec-a9b3-f49748e4c31f",
   "metadata": {},
   "outputs": [
    {
     "name": "stdout",
     "output_type": "stream",
     "text": [
      "{\n",
      "  \"schemaArn\": \"arn:aws:personalize:us-east-1:376278017302:schema/RetailDemo-interaction-schema\",\n",
      "  \"ResponseMetadata\": {\n",
      "    \"RequestId\": \"d2a0b5f1-8940-4d1e-ade9-fa809f75dafb\",\n",
      "    \"HTTPStatusCode\": 200,\n",
      "    \"HTTPHeaders\": {\n",
      "      \"date\": \"Mon, 06 Mar 2023 08:52:07 GMT\",\n",
      "      \"content-type\": \"application/x-amz-json-1.1\",\n",
      "      \"content-length\": \"95\",\n",
      "      \"connection\": \"keep-alive\",\n",
      "      \"x-amzn-requestid\": \"d2a0b5f1-8940-4d1e-ade9-fa809f75dafb\"\n",
      "    },\n",
      "    \"RetryAttempts\": 0\n",
      "  }\n",
      "}\n"
     ]
    }
   ],
   "source": [
    "interaction_schema_name=\"RetailDemo-interaction-schema\"\n",
    "\n",
    "schema = {\n",
    "    \"type\": \"record\",\n",
    "    \"name\": \"Interactions\",\n",
    "    \"namespace\": \"com.amazonaws.personalize.schema\",\n",
    "    \"fields\": [\n",
    "        {\n",
    "            \"name\": \"USER_ID\",\n",
    "            \"type\": \"string\"\n",
    "        },\n",
    "        {\n",
    "            \"name\": \"ITEM_ID\",\n",
    "            \"type\": \"string\"\n",
    "        },\n",
    "        { \n",
    "            \"name\": \"EVENT_TYPE\",\n",
    "            \"type\": \"string\"\n",
    "        },        \n",
    "        {\n",
    "            \"name\": \"TIMESTAMP\",\n",
    "            \"type\": \"long\"\n",
    "        }\n",
    "    ],\n",
    "    \"version\": \"1.0\"\n",
    "}\n",
    "\n",
    "\n",
    "create_schema_response = personalize.create_schema( \n",
    "    name = interaction_schema_name,\n",
    "    schema = json.dumps(schema)\n",
    ")\n",
    "\n",
    "interaction_schema_arn = create_schema_response['schemaArn']\n",
    "print(json.dumps(create_schema_response, indent=2))"
   ]
  },
  {
   "cell_type": "markdown",
   "id": "a87a884e-9108-4a82-b53a-77dfed708df8",
   "metadata": {},
   "source": [
    "### 3.2 아이템"
   ]
  },
  {
   "cell_type": "code",
   "execution_count": 15,
   "id": "e5698bf3-5c0e-4eca-8d63-22e43e30456c",
   "metadata": {},
   "outputs": [
    {
     "name": "stdout",
     "output_type": "stream",
     "text": [
      "{\n",
      "  \"schemaArn\": \"arn:aws:personalize:us-east-1:376278017302:schema/RetailDemo-base-item-schema\",\n",
      "  \"ResponseMetadata\": {\n",
      "    \"RequestId\": \"9c7c56c4-063b-489d-8a48-617951659e9b\",\n",
      "    \"HTTPStatusCode\": 200,\n",
      "    \"HTTPHeaders\": {\n",
      "      \"date\": \"Mon, 06 Mar 2023 08:52:12 GMT\",\n",
      "      \"content-type\": \"application/x-amz-json-1.1\",\n",
      "      \"content-length\": \"93\",\n",
      "      \"connection\": \"keep-alive\",\n",
      "      \"x-amzn-requestid\": \"9c7c56c4-063b-489d-8a48-617951659e9b\"\n",
      "    },\n",
      "    \"RetryAttempts\": 0\n",
      "  }\n",
      "}\n"
     ]
    }
   ],
   "source": [
    "base_item_schema_name=\"RetailDemo-base-item-schema\"\n",
    "\n",
    "schema = {\n",
    "    \"type\": \"record\",\n",
    "    \"name\": \"Items\",\n",
    "    \"namespace\": \"com.amazonaws.personalize.schema\",\n",
    "    \"fields\": [\n",
    "    {\n",
    "        \"name\": \"ITEM_ID\",\n",
    "        \"type\": \"string\"\n",
    "    },\n",
    "    {\n",
    "        \"name\": \"NAME\",\n",
    "        \"type\": \"string\"\n",
    "    },\n",
    "    {\n",
    "      \"name\": \"CATEGORY_L1\",\n",
    "      \"type\": [\n",
    "        \"string\"\n",
    "      ],\n",
    "      \"categorical\": True\n",
    "    },\n",
    "    {\n",
    "      \"name\": \"STYLE\",\n",
    "      \"type\": [\n",
    "        \"string\"\n",
    "      ],\n",
    "      \"categorical\": True\n",
    "    },\n",
    "    {\n",
    "        \"name\": \"PRODUCT_DESCRIPTION\",\n",
    "        \"type\": \"string\"\n",
    "    },\n",
    "    {\n",
    "      \"name\": \"PRICE\",\n",
    "      \"type\": \"float\"\n",
    "    },    \n",
    "    ],\n",
    "    \"version\": \"1.0\"\n",
    "}\n",
    "\n",
    "create_metadata_schema_response = personalize.create_schema(      \n",
    "    name = base_item_schema_name,\n",
    "    schema = json.dumps(schema)\n",
    ")\n",
    "\n",
    "base_item_schema_arn = create_metadata_schema_response['schemaArn']\n",
    "print(json.dumps(create_metadata_schema_response, indent=2))"
   ]
  },
  {
   "cell_type": "code",
   "execution_count": 16,
   "id": "8c0f552b-76bc-4df1-9b09-7427a2bf7897",
   "metadata": {},
   "outputs": [
    {
     "name": "stdout",
     "output_type": "stream",
     "text": [
      "{\n",
      "  \"schemaArn\": \"arn:aws:personalize:us-east-1:376278017302:schema/RetailDemo-cvr-item-schema\",\n",
      "  \"ResponseMetadata\": {\n",
      "    \"RequestId\": \"8217f568-6367-48b3-951f-0d1a2b9cb03b\",\n",
      "    \"HTTPStatusCode\": 200,\n",
      "    \"HTTPHeaders\": {\n",
      "      \"date\": \"Mon, 06 Mar 2023 08:52:16 GMT\",\n",
      "      \"content-type\": \"application/x-amz-json-1.1\",\n",
      "      \"content-length\": \"92\",\n",
      "      \"connection\": \"keep-alive\",\n",
      "      \"x-amzn-requestid\": \"8217f568-6367-48b3-951f-0d1a2b9cb03b\"\n",
      "    },\n",
      "    \"RetryAttempts\": 0\n",
      "  }\n",
      "}\n"
     ]
    }
   ],
   "source": [
    "cvr_item_schema_name=\"RetailDemo-cvr-item-schema\"\n",
    "\n",
    "schema = {\n",
    "    \"type\": \"record\",\n",
    "    \"name\": \"Items\",\n",
    "    \"namespace\": \"com.amazonaws.personalize.schema\",\n",
    "    \"fields\": [\n",
    "    {\n",
    "        \"name\": \"ITEM_ID\",\n",
    "        \"type\": \"string\"\n",
    "    },\n",
    "    {\n",
    "      \"name\": \"CVR\",\n",
    "      \"type\": \"float\"\n",
    "    }, \n",
    "    {\n",
    "        \"name\": \"NAME\",\n",
    "        \"type\": \"string\"\n",
    "    },\n",
    "    {\n",
    "      \"name\": \"CATEGORY_L1\",\n",
    "      \"type\": [\n",
    "        \"string\"\n",
    "      ],\n",
    "      \"categorical\": True\n",
    "    },\n",
    "    {\n",
    "      \"name\": \"STYLE\",\n",
    "      \"type\": [\n",
    "        \"string\"\n",
    "      ],\n",
    "      \"categorical\": True\n",
    "    },\n",
    "    {\n",
    "        \"name\": \"PRODUCT_DESCRIPTION\",\n",
    "        \"type\": \"string\"\n",
    "    },\n",
    "    {\n",
    "      \"name\": \"PRICE\",\n",
    "      \"type\": \"float\"\n",
    "    }     \n",
    "    ],\n",
    "    \"version\": \"1.0\"\n",
    "}\n",
    "\n",
    "create_metadata_schema_response = personalize.create_schema(      \n",
    "    name = cvr_item_schema_name,\n",
    "    schema = json.dumps(schema)\n",
    ")\n",
    "\n",
    "cvr_item_schema_arn = create_metadata_schema_response['schemaArn']\n",
    "print(json.dumps(create_metadata_schema_response, indent=2))"
   ]
  },
  {
   "cell_type": "markdown",
   "id": "f1f7a176-8054-45ec-9009-25c5a297227a",
   "metadata": {},
   "source": [
    "### 3.3 유저"
   ]
  },
  {
   "cell_type": "code",
   "execution_count": 17,
   "id": "ae9c12b0-ab64-4f3b-a592-5984c1cc9da7",
   "metadata": {},
   "outputs": [
    {
     "name": "stdout",
     "output_type": "stream",
     "text": [
      "{\n",
      "  \"schemaArn\": \"arn:aws:personalize:us-east-1:376278017302:schema/RetailDemo-user-schema\",\n",
      "  \"ResponseMetadata\": {\n",
      "    \"RequestId\": \"42377114-190f-46c6-a39c-2fedbfd91a47\",\n",
      "    \"HTTPStatusCode\": 200,\n",
      "    \"HTTPHeaders\": {\n",
      "      \"date\": \"Mon, 06 Mar 2023 08:52:37 GMT\",\n",
      "      \"content-type\": \"application/x-amz-json-1.1\",\n",
      "      \"content-length\": \"88\",\n",
      "      \"connection\": \"keep-alive\",\n",
      "      \"x-amzn-requestid\": \"42377114-190f-46c6-a39c-2fedbfd91a47\"\n",
      "    },\n",
      "    \"RetryAttempts\": 0\n",
      "  }\n",
      "}\n"
     ]
    }
   ],
   "source": [
    "user_schema_name=\"RetailDemo-user-schema\"\n",
    "\n",
    "schema = {\n",
    "    \"type\": \"record\",\n",
    "    \"name\": \"Users\",\n",
    "    \"namespace\": \"com.amazonaws.personalize.schema\",\n",
    "    \"fields\": [\n",
    "    {\n",
    "        \"name\": \"USER_ID\",\n",
    "        \"type\": \"string\"\n",
    "    },\n",
    "    {\n",
    "      \"name\": \"USER_NAME\",\n",
    "      \"type\": \"string\"\n",
    "    },        \n",
    "    {\n",
    "      \"name\": \"GENDER\",\n",
    "      \"type\": [\n",
    "        \"string\"\n",
    "      ],\n",
    "      \"categorical\": True\n",
    "    }        \n",
    "    ],\n",
    "    \"version\": \"1.0\"\n",
    "}\n",
    "\n",
    "create_metadata_schema_response = personalize.create_schema(      \n",
    "    name = user_schema_name,\n",
    "    schema = json.dumps(schema)\n",
    ")\n",
    "\n",
    "user_schema_arn = create_metadata_schema_response['schemaArn']\n",
    "print(json.dumps(create_metadata_schema_response, indent=2))"
   ]
  },
  {
   "cell_type": "markdown",
   "id": "d971b718-f60b-4e2e-a49e-19546181cb53",
   "metadata": {},
   "source": [
    "## 4. 데이터 세트 생성\n",
    "\n",
    "그룹 다음으로 생성할 것은 실제 데이터 세트입니다. 아래의 코드 셀을 실행하여 데이터 세트을 생성해 주세요."
   ]
  },
  {
   "cell_type": "markdown",
   "id": "d31b4fa4-5766-4a4d-b684-9c36a9cda14d",
   "metadata": {},
   "source": [
    "### 4.1 Interactions 데이터 세트 생성 (Base 데이터셋)"
   ]
  },
  {
   "cell_type": "code",
   "execution_count": 18,
   "id": "4f031f8b-e6a8-4c73-8a24-975a294feba8",
   "metadata": {},
   "outputs": [
    {
     "name": "stdout",
     "output_type": "stream",
     "text": [
      "{\n",
      "  \"datasetArn\": \"arn:aws:personalize:us-east-1:376278017302:dataset/RetailDemo-base-dataset-group/INTERACTIONS\",\n",
      "  \"ResponseMetadata\": {\n",
      "    \"RequestId\": \"786337a0-20f5-44c4-b3b3-1a4400b3b9ac\",\n",
      "    \"HTTPStatusCode\": 200,\n",
      "    \"HTTPHeaders\": {\n",
      "      \"date\": \"Mon, 06 Mar 2023 08:58:59 GMT\",\n",
      "      \"content-type\": \"application/x-amz-json-1.1\",\n",
      "      \"content-length\": \"110\",\n",
      "      \"connection\": \"keep-alive\",\n",
      "      \"x-amzn-requestid\": \"786337a0-20f5-44c4-b3b3-1a4400b3b9ac\"\n",
      "    },\n",
      "    \"RetryAttempts\": 0\n",
      "  }\n",
      "}\n"
     ]
    }
   ],
   "source": [
    "dataset_type = \"INTERACTIONS\"\n",
    "create_base_dataset_response = personalize.create_dataset(\n",
    "    name = \"RetailDemo-base-interaction-dataset\",\n",
    "    datasetType = dataset_type,\n",
    "    datasetGroupArn = base_dataset_group_arn,\n",
    "    schemaArn = interaction_schema_arn\n",
    ")\n",
    "\n",
    "base_interaction_dataset_arn = create_base_dataset_response['datasetArn']\n",
    "print(json.dumps(create_base_dataset_response, indent=2))"
   ]
  },
  {
   "cell_type": "markdown",
   "id": "0c3ce641-e08e-497e-8e5d-d8f7609ac36d",
   "metadata": {},
   "source": [
    "### 4.2 Items 데이터 세트 생성  (Base 데이터셋)"
   ]
  },
  {
   "cell_type": "code",
   "execution_count": 19,
   "id": "9d7ca40f-1c9d-49d3-9a40-4b4c1183f44d",
   "metadata": {},
   "outputs": [
    {
     "name": "stdout",
     "output_type": "stream",
     "text": [
      "{\n",
      "  \"datasetArn\": \"arn:aws:personalize:us-east-1:376278017302:dataset/RetailDemo-base-dataset-group/ITEMS\",\n",
      "  \"ResponseMetadata\": {\n",
      "    \"RequestId\": \"04790954-ef9d-4e2a-823d-830dd4f33bee\",\n",
      "    \"HTTPStatusCode\": 200,\n",
      "    \"HTTPHeaders\": {\n",
      "      \"date\": \"Mon, 06 Mar 2023 08:59:01 GMT\",\n",
      "      \"content-type\": \"application/x-amz-json-1.1\",\n",
      "      \"content-length\": \"103\",\n",
      "      \"connection\": \"keep-alive\",\n",
      "      \"x-amzn-requestid\": \"04790954-ef9d-4e2a-823d-830dd4f33bee\"\n",
      "    },\n",
      "    \"RetryAttempts\": 0\n",
      "  }\n",
      "}\n"
     ]
    }
   ],
   "source": [
    "dataset_type = \"ITEMS\"\n",
    "create_base_item_dataset_response = personalize.create_dataset(\n",
    "    name = \"RetailDemo-base-item-dataset\",\n",
    "    datasetType = dataset_type,\n",
    "    datasetGroupArn = base_dataset_group_arn,\n",
    "    schemaArn = base_item_schema_arn,\n",
    "  \n",
    ")\n",
    "\n",
    "base_item_dataset_arn = create_base_item_dataset_response['datasetArn']\n",
    "print(json.dumps(create_base_item_dataset_response, indent=2))"
   ]
  },
  {
   "cell_type": "markdown",
   "id": "2ec3bf33-46ad-4a2f-9a1a-fe24062f0fb9",
   "metadata": {},
   "source": [
    "### 4.3 Users 데이터 세트 생성 (Base 데이터셋)"
   ]
  },
  {
   "cell_type": "code",
   "execution_count": 20,
   "id": "7ecee45e-32ad-4153-a0d7-9fcdf20803ff",
   "metadata": {},
   "outputs": [
    {
     "name": "stdout",
     "output_type": "stream",
     "text": [
      "{\n",
      "  \"datasetArn\": \"arn:aws:personalize:us-east-1:376278017302:dataset/RetailDemo-base-dataset-group/USERS\",\n",
      "  \"ResponseMetadata\": {\n",
      "    \"RequestId\": \"407b08ab-5550-42e3-860d-20e9abc486fb\",\n",
      "    \"HTTPStatusCode\": 200,\n",
      "    \"HTTPHeaders\": {\n",
      "      \"date\": \"Mon, 06 Mar 2023 08:59:02 GMT\",\n",
      "      \"content-type\": \"application/x-amz-json-1.1\",\n",
      "      \"content-length\": \"103\",\n",
      "      \"connection\": \"keep-alive\",\n",
      "      \"x-amzn-requestid\": \"407b08ab-5550-42e3-860d-20e9abc486fb\"\n",
      "    },\n",
      "    \"RetryAttempts\": 0\n",
      "  }\n",
      "}\n"
     ]
    }
   ],
   "source": [
    "dataset_type = \"USERS\"\n",
    "create_base_user_dataset_response = personalize.create_dataset(\n",
    "    name = \"RetailDemo-base-user-dataset\",\n",
    "    datasetType = dataset_type,\n",
    "    datasetGroupArn = base_dataset_group_arn,\n",
    "    schemaArn = user_schema_arn,\n",
    "  \n",
    ")\n",
    "\n",
    "base_user_dataset_arn = create_base_user_dataset_response['datasetArn']\n",
    "print(json.dumps(create_base_user_dataset_response, indent=2))"
   ]
  },
  {
   "cell_type": "markdown",
   "id": "63ac879a-ef39-4956-bd51-55b9c58e67df",
   "metadata": {},
   "source": [
    "### 4.4 Interactions 데이터 세트 생성 (CVR 적용 데이터셋)"
   ]
  },
  {
   "cell_type": "code",
   "execution_count": 21,
   "id": "bff20ec7-b00d-44a8-a3dc-f48d0bbe2576",
   "metadata": {},
   "outputs": [
    {
     "name": "stdout",
     "output_type": "stream",
     "text": [
      "{\n",
      "  \"datasetArn\": \"arn:aws:personalize:us-east-1:376278017302:dataset/RetailDemo-cvr-dataset-group/INTERACTIONS\",\n",
      "  \"ResponseMetadata\": {\n",
      "    \"RequestId\": \"c3285be5-d6c9-4f0b-8832-a8b71f29ab76\",\n",
      "    \"HTTPStatusCode\": 200,\n",
      "    \"HTTPHeaders\": {\n",
      "      \"date\": \"Mon, 06 Mar 2023 08:59:03 GMT\",\n",
      "      \"content-type\": \"application/x-amz-json-1.1\",\n",
      "      \"content-length\": \"109\",\n",
      "      \"connection\": \"keep-alive\",\n",
      "      \"x-amzn-requestid\": \"c3285be5-d6c9-4f0b-8832-a8b71f29ab76\"\n",
      "    },\n",
      "    \"RetryAttempts\": 0\n",
      "  }\n",
      "}\n"
     ]
    }
   ],
   "source": [
    "dataset_type = \"INTERACTIONS\"\n",
    "create_cvr_dataset_response = personalize.create_dataset(\n",
    "    name = \"RetailDemo-cvr-interaction-dataset\",\n",
    "    datasetType = dataset_type,\n",
    "    datasetGroupArn = cvr_dataset_group_arn,\n",
    "    schemaArn = interaction_schema_arn\n",
    ")\n",
    "\n",
    "cvr_interaction_dataset_arn = create_cvr_dataset_response['datasetArn']\n",
    "print(json.dumps(create_cvr_dataset_response, indent=2))"
   ]
  },
  {
   "cell_type": "markdown",
   "id": "e190c04c-fe1b-450c-b0a8-2150663b9ab0",
   "metadata": {},
   "source": [
    "### 4.5 Items 데이터 세트 생성  (CVR 적용 데이터셋)"
   ]
  },
  {
   "cell_type": "code",
   "execution_count": 22,
   "id": "971334c9-af3f-420b-898a-7385a07b682c",
   "metadata": {},
   "outputs": [
    {
     "name": "stdout",
     "output_type": "stream",
     "text": [
      "{\n",
      "  \"datasetArn\": \"arn:aws:personalize:us-east-1:376278017302:dataset/RetailDemo-cvr-dataset-group/ITEMS\",\n",
      "  \"ResponseMetadata\": {\n",
      "    \"RequestId\": \"d1f92fbb-4913-4219-997d-bb415629f1eb\",\n",
      "    \"HTTPStatusCode\": 200,\n",
      "    \"HTTPHeaders\": {\n",
      "      \"date\": \"Mon, 06 Mar 2023 08:59:04 GMT\",\n",
      "      \"content-type\": \"application/x-amz-json-1.1\",\n",
      "      \"content-length\": \"102\",\n",
      "      \"connection\": \"keep-alive\",\n",
      "      \"x-amzn-requestid\": \"d1f92fbb-4913-4219-997d-bb415629f1eb\"\n",
      "    },\n",
      "    \"RetryAttempts\": 0\n",
      "  }\n",
      "}\n"
     ]
    }
   ],
   "source": [
    "dataset_type = \"ITEMS\"\n",
    "create_cvr_item_dataset_response = personalize.create_dataset(\n",
    "    name = \"RetailDemo-cvr-item-dataset\",\n",
    "    datasetType = dataset_type,\n",
    "    datasetGroupArn = cvr_dataset_group_arn,\n",
    "    schemaArn = cvr_item_schema_arn,\n",
    "  \n",
    ")\n",
    "\n",
    "cvr_item_dataset_arn = create_cvr_item_dataset_response['datasetArn']\n",
    "print(json.dumps(create_cvr_item_dataset_response, indent=2))"
   ]
  },
  {
   "cell_type": "markdown",
   "id": "339defbb-cc4b-4e38-b3cd-861e2878fbbb",
   "metadata": {},
   "source": [
    "### 4.6 Users 데이터 세트 생성 (CVR 적용 데이터셋)"
   ]
  },
  {
   "cell_type": "code",
   "execution_count": 23,
   "id": "047c2ec5-e7ee-40c7-8718-13492e13bf5d",
   "metadata": {},
   "outputs": [
    {
     "name": "stdout",
     "output_type": "stream",
     "text": [
      "{\n",
      "  \"datasetArn\": \"arn:aws:personalize:us-east-1:376278017302:dataset/RetailDemo-cvr-dataset-group/USERS\",\n",
      "  \"ResponseMetadata\": {\n",
      "    \"RequestId\": \"a1c062cb-61a9-4bec-8a0e-b710c4d2488a\",\n",
      "    \"HTTPStatusCode\": 200,\n",
      "    \"HTTPHeaders\": {\n",
      "      \"date\": \"Mon, 06 Mar 2023 08:59:05 GMT\",\n",
      "      \"content-type\": \"application/x-amz-json-1.1\",\n",
      "      \"content-length\": \"102\",\n",
      "      \"connection\": \"keep-alive\",\n",
      "      \"x-amzn-requestid\": \"a1c062cb-61a9-4bec-8a0e-b710c4d2488a\"\n",
      "    },\n",
      "    \"RetryAttempts\": 0\n",
      "  }\n",
      "}\n"
     ]
    }
   ],
   "source": [
    "dataset_type = \"USERS\"\n",
    "create_cvr_user_dataset_response = personalize.create_dataset(\n",
    "    name = \"RetailDemo-cvr-user-dataset\",\n",
    "    datasetType = dataset_type,\n",
    "    datasetGroupArn = cvr_dataset_group_arn,\n",
    "    schemaArn = user_schema_arn,\n",
    "  \n",
    ")\n",
    "\n",
    "cvr_user_dataset_arn = create_cvr_user_dataset_response['datasetArn']\n",
    "print(json.dumps(create_cvr_user_dataset_response, indent=2))"
   ]
  },
  {
   "cell_type": "markdown",
   "id": "9555a6d0-d83a-4fa4-b33a-05aca3002c4c",
   "metadata": {},
   "source": [
    "#### 데이터 세트 생성을 위해서 1분 기다림"
   ]
  },
  {
   "cell_type": "code",
   "execution_count": 24,
   "id": "1210402d-3e04-4ae0-9aaa-a261dedc408d",
   "metadata": {},
   "outputs": [],
   "source": [
    "time.sleep(60)"
   ]
  },
  {
   "cell_type": "markdown",
   "id": "f982cc23-6ee9-430f-a4f3-2b3eb6020a1a",
   "metadata": {},
   "source": [
    "## 5. 데이터 세트 Import\n",
    "\n",
    "이전에는 정보를 저장하기 위해 데이터 세트 그룹 및 데이터 세트를 생성했으므로, \n",
    "이제는 모델 구축을 위해 S3에서 Amazon Personalize로 데이터를 로드하는 import job을 실행합니다.\n",
    "\n"
   ]
  },
  {
   "cell_type": "markdown",
   "id": "dc948a8c-6b96-40e6-9319-880fc4e04341",
   "metadata": {},
   "source": [
    "#### Interaction 데이터 세트 Import Job 생성 (Base 데이터셋)"
   ]
  },
  {
   "cell_type": "code",
   "execution_count": 25,
   "id": "60effee1-a93d-488a-9db5-0577d8f3d292",
   "metadata": {},
   "outputs": [
    {
     "name": "stdout",
     "output_type": "stream",
     "text": [
      "{\n",
      "  \"datasetImportJobArn\": \"arn:aws:personalize:us-east-1:376278017302:dataset-import-job/RetailDeom-base-interaction-dataset-import\",\n",
      "  \"ResponseMetadata\": {\n",
      "    \"RequestId\": \"bae5dc74-a4a1-4fb7-b8cb-cf78b0a900ea\",\n",
      "    \"HTTPStatusCode\": 200,\n",
      "    \"HTTPHeaders\": {\n",
      "      \"date\": \"Mon, 06 Mar 2023 09:06:43 GMT\",\n",
      "      \"content-type\": \"application/x-amz-json-1.1\",\n",
      "      \"content-length\": \"130\",\n",
      "      \"connection\": \"keep-alive\",\n",
      "      \"x-amzn-requestid\": \"bae5dc74-a4a1-4fb7-b8cb-cf78b0a900ea\"\n",
      "    },\n",
      "    \"RetryAttempts\": 0\n",
      "  }\n",
      "}\n"
     ]
    }
   ],
   "source": [
    "create_dataset_import_job_response = personalize.create_dataset_import_job(\n",
    "    jobName = \"RetailDeom-base-interaction-dataset-import\",\n",
    "    datasetArn = base_interaction_dataset_arn,\n",
    "    dataSource = {\n",
    "        \"dataLocation\": \"s3://{}/{}\".format(bucket, base_warm_train_interaction_filename)\n",
    "    },\n",
    "    roleArn = role_arn\n",
    ")\n",
    "\n",
    "base_interation_dataset_import_job_arn = create_dataset_import_job_response['datasetImportJobArn']\n",
    "print(json.dumps(create_dataset_import_job_response, indent=2))"
   ]
  },
  {
   "cell_type": "markdown",
   "id": "62982954-d79c-4452-9288-6ba82491d4e8",
   "metadata": {},
   "source": [
    "#### 아이템 데이터 세트 Import Job 생성 (Base 데이터셋)"
   ]
  },
  {
   "cell_type": "code",
   "execution_count": 26,
   "id": "49bb4913-0f74-42cf-a8cb-469a95fde687",
   "metadata": {},
   "outputs": [
    {
     "name": "stdout",
     "output_type": "stream",
     "text": [
      "{\n",
      "  \"datasetImportJobArn\": \"arn:aws:personalize:us-east-1:376278017302:dataset-import-job/RetailDeom-base-interaction-dataset-import\",\n",
      "  \"ResponseMetadata\": {\n",
      "    \"RequestId\": \"bae5dc74-a4a1-4fb7-b8cb-cf78b0a900ea\",\n",
      "    \"HTTPStatusCode\": 200,\n",
      "    \"HTTPHeaders\": {\n",
      "      \"date\": \"Mon, 06 Mar 2023 09:06:43 GMT\",\n",
      "      \"content-type\": \"application/x-amz-json-1.1\",\n",
      "      \"content-length\": \"130\",\n",
      "      \"connection\": \"keep-alive\",\n",
      "      \"x-amzn-requestid\": \"bae5dc74-a4a1-4fb7-b8cb-cf78b0a900ea\"\n",
      "    },\n",
      "    \"RetryAttempts\": 0\n",
      "  }\n",
      "}\n"
     ]
    }
   ],
   "source": [
    "create_item_dataset_import_job_response = personalize.create_dataset_import_job(\n",
    "    jobName = \"RetailDemo-base-item-dataset-import\",\n",
    "    datasetArn = base_item_dataset_arn,\n",
    "    dataSource = {\n",
    "        \"dataLocation\": \"s3://{}/{}\".format(bucket, base_items_filename)\n",
    "    },\n",
    "    roleArn = role_arn\n",
    ")\n",
    "\n",
    "base_item_dataset_import_job_arn = create_item_dataset_import_job_response['datasetImportJobArn']\n",
    "print(json.dumps(create_item_dataset_import_job_response, indent=2))"
   ]
  },
  {
   "cell_type": "markdown",
   "id": "7877a5be-35ad-423f-9297-50282d096ba6",
   "metadata": {},
   "source": [
    "#### 유저 데이터 세트 Import Job 생성 (Base 데이터셋)"
   ]
  },
  {
   "cell_type": "code",
   "execution_count": 27,
   "id": "21b5a17f-d752-4b41-aea6-6be02ea46406",
   "metadata": {},
   "outputs": [
    {
     "name": "stdout",
     "output_type": "stream",
     "text": [
      "{\n",
      "  \"datasetImportJobArn\": \"arn:aws:personalize:us-east-1:376278017302:dataset-import-job/RetailDemo-base-user-dataset-import\",\n",
      "  \"ResponseMetadata\": {\n",
      "    \"RequestId\": \"e90d2c22-b2e0-4221-a949-cec4397b8c77\",\n",
      "    \"HTTPStatusCode\": 200,\n",
      "    \"HTTPHeaders\": {\n",
      "      \"date\": \"Mon, 06 Mar 2023 09:06:46 GMT\",\n",
      "      \"content-type\": \"application/x-amz-json-1.1\",\n",
      "      \"content-length\": \"123\",\n",
      "      \"connection\": \"keep-alive\",\n",
      "      \"x-amzn-requestid\": \"e90d2c22-b2e0-4221-a949-cec4397b8c77\"\n",
      "    },\n",
      "    \"RetryAttempts\": 0\n",
      "  }\n",
      "}\n"
     ]
    }
   ],
   "source": [
    "create_user_dataset_import_job_response = personalize.create_dataset_import_job(\n",
    "    jobName = \"RetailDemo-base-user-dataset-import\",\n",
    "    datasetArn = base_user_dataset_arn,\n",
    "    dataSource = {\n",
    "        \"dataLocation\": \"s3://{}/{}\".format(bucket, base_users_filename)\n",
    "    },\n",
    "    roleArn = role_arn\n",
    ")\n",
    "\n",
    "base_user_dataset_import_job_arn = create_user_dataset_import_job_response['datasetImportJobArn']\n",
    "print(json.dumps(create_user_dataset_import_job_response, indent=2))"
   ]
  },
  {
   "cell_type": "markdown",
   "id": "f9e33781-5b16-471b-a69a-dc23575ba3f2",
   "metadata": {},
   "source": [
    "### 데이터 세트 Import job이 활성화 상태가 될 때까지 대기\n",
    "\n",
    "Import job이 완료되기까지 시간이 걸립니다. 아래 코드 셀의 출력 결과가 DatasetImportJob: ACTIVE가 될 때까지 기다려 주세요."
   ]
  },
  {
   "cell_type": "markdown",
   "id": "0bd68ace-92e0-4881-8888-843e8c4e3bfe",
   "metadata": {},
   "source": [
    "#### 인터렉션"
   ]
  },
  {
   "cell_type": "code",
   "execution_count": 32,
   "id": "5f77eefc-4c5c-41bc-b18a-e8603114b462",
   "metadata": {},
   "outputs": [
    {
     "name": "stdout",
     "output_type": "stream",
     "text": [
      "DatasetImportJob: ACTIVE\n",
      "CPU times: user 12.9 ms, sys: 0 ns, total: 12.9 ms\n",
      "Wall time: 59.7 ms\n"
     ]
    }
   ],
   "source": [
    "%%time\n",
    "\n",
    "status = None\n",
    "max_time = time.time() + 3*60*60 # 3 hours\n",
    "while time.time() < max_time:\n",
    "    describe_dataset_import_job_response = personalize.describe_dataset_import_job(\n",
    "        datasetImportJobArn = base_interation_dataset_import_job_arn\n",
    "    )\n",
    "    \n",
    "    dataset_import_job = describe_dataset_import_job_response[\"datasetImportJob\"]\n",
    "    if \"latestDatasetImportJobRun\" not in dataset_import_job:\n",
    "        status = dataset_import_job[\"status\"]\n",
    "        print(\"DatasetImportJob: {}\".format(status))\n",
    "    else:\n",
    "        status = dataset_import_job[\"latestDatasetImportJobRun\"][\"status\"]\n",
    "        print(\"LatestDatasetImportJobRun: {}\".format(status))\n",
    "    \n",
    "    if status == \"ACTIVE\" or status == \"CREATE FAILED\":\n",
    "        break\n",
    "        \n",
    "    time.sleep(60)"
   ]
  },
  {
   "cell_type": "markdown",
   "id": "4c49391c-6aba-422b-9d1e-fc50cb10fb5d",
   "metadata": {},
   "source": [
    "#### 아이템"
   ]
  },
  {
   "cell_type": "code",
   "execution_count": 33,
   "id": "e92cb2a5-10ae-416d-b5b5-3570e9066abe",
   "metadata": {},
   "outputs": [
    {
     "name": "stdout",
     "output_type": "stream",
     "text": [
      "DatasetImportJob: ACTIVE\n"
     ]
    }
   ],
   "source": [
    "status = None\n",
    "max_time = time.time() + 3*60*60 # 3 hours\n",
    "while time.time() < max_time:\n",
    "    describe_dataset_import_job_response = personalize.describe_dataset_import_job(\n",
    "        datasetImportJobArn = base_item_dataset_import_job_arn\n",
    "    )\n",
    "    \n",
    "    dataset_import_job = describe_dataset_import_job_response[\"datasetImportJob\"]\n",
    "    if \"latestDatasetImportJobRun\" not in dataset_import_job:\n",
    "        status = dataset_import_job[\"status\"]\n",
    "        print(\"DatasetImportJob: {}\".format(status))\n",
    "    else:\n",
    "        status = dataset_import_job[\"latestDatasetImportJobRun\"][\"status\"]\n",
    "        print(\"LatestDatasetImportJobRun: {}\".format(status))\n",
    "    \n",
    "    if status == \"ACTIVE\" or status == \"CREATE FAILED\":\n",
    "        break\n",
    "        \n",
    "    time.sleep(60)"
   ]
  },
  {
   "cell_type": "markdown",
   "id": "9b86aaf7-9b2f-4674-a819-2cfe2ed20d65",
   "metadata": {},
   "source": [
    "#### 유저"
   ]
  },
  {
   "cell_type": "code",
   "execution_count": 34,
   "id": "99412f33-30e5-48cd-8a9b-1fff8e3949b9",
   "metadata": {},
   "outputs": [
    {
     "name": "stdout",
     "output_type": "stream",
     "text": [
      "DatasetImportJob: ACTIVE\n"
     ]
    }
   ],
   "source": [
    "status = None\n",
    "max_time = time.time() + 3*60*60 # 3 hours\n",
    "while time.time() < max_time:\n",
    "    describe_dataset_import_job_response = personalize.describe_dataset_import_job(\n",
    "        datasetImportJobArn = base_user_dataset_import_job_arn\n",
    "    )\n",
    "    \n",
    "    dataset_import_job = describe_dataset_import_job_response[\"datasetImportJob\"]\n",
    "    if \"latestDatasetImportJobRun\" not in dataset_import_job:\n",
    "        status = dataset_import_job[\"status\"]\n",
    "        print(\"DatasetImportJob: {}\".format(status))\n",
    "    else:\n",
    "        status = dataset_import_job[\"latestDatasetImportJobRun\"][\"status\"]\n",
    "        print(\"LatestDatasetImportJobRun: {}\".format(status))\n",
    "    \n",
    "    if status == \"ACTIVE\" or status == \"CREATE FAILED\":\n",
    "        break\n",
    "        \n",
    "    time.sleep(60)"
   ]
  },
  {
   "cell_type": "markdown",
   "id": "c759a166-30b0-4f05-ad2e-36319392741c",
   "metadata": {},
   "source": [
    "#### Interaction 데이터 세트 Import Job 생성 (CVR 적용 데이터셋)"
   ]
  },
  {
   "cell_type": "code",
   "execution_count": 28,
   "id": "46d9b64f-75b1-4f32-894e-0e85b8e2f226",
   "metadata": {},
   "outputs": [
    {
     "name": "stdout",
     "output_type": "stream",
     "text": [
      "{\n",
      "  \"datasetImportJobArn\": \"arn:aws:personalize:us-east-1:376278017302:dataset-import-job/RetailDeom-cvr-interaction-dataset-import\",\n",
      "  \"ResponseMetadata\": {\n",
      "    \"RequestId\": \"1a639dd9-169f-4757-828b-ac89b2072dc6\",\n",
      "    \"HTTPStatusCode\": 200,\n",
      "    \"HTTPHeaders\": {\n",
      "      \"date\": \"Mon, 06 Mar 2023 09:06:48 GMT\",\n",
      "      \"content-type\": \"application/x-amz-json-1.1\",\n",
      "      \"content-length\": \"129\",\n",
      "      \"connection\": \"keep-alive\",\n",
      "      \"x-amzn-requestid\": \"1a639dd9-169f-4757-828b-ac89b2072dc6\"\n",
      "    },\n",
      "    \"RetryAttempts\": 0\n",
      "  }\n",
      "}\n"
     ]
    }
   ],
   "source": [
    "create_dataset_import_job_response = personalize.create_dataset_import_job(\n",
    "    jobName = \"RetailDeom-cvr-interaction-dataset-import\",\n",
    "    datasetArn = cvr_interaction_dataset_arn,\n",
    "    dataSource = {\n",
    "        \"dataLocation\": \"s3://{}/{}\".format(bucket, cvr_warm_train_interaction_filename)\n",
    "    },\n",
    "    roleArn = role_arn\n",
    ")\n",
    "\n",
    "cvr_interation_dataset_import_job_arn = create_dataset_import_job_response['datasetImportJobArn']\n",
    "print(json.dumps(create_dataset_import_job_response, indent=2))"
   ]
  },
  {
   "cell_type": "markdown",
   "id": "8bca058e-0f51-4785-97ac-94421c09e788",
   "metadata": {},
   "source": [
    "#### 아이템 데이터 세트 Import Job 생성 (CVR 적용 데이터셋)"
   ]
  },
  {
   "cell_type": "code",
   "execution_count": 29,
   "id": "ac0364ac-d93f-4568-9dd1-0d34c994eef8",
   "metadata": {},
   "outputs": [
    {
     "name": "stdout",
     "output_type": "stream",
     "text": [
      "{\n",
      "  \"datasetImportJobArn\": \"arn:aws:personalize:us-east-1:376278017302:dataset-import-job/RetailDeom-cvr-interaction-dataset-import\",\n",
      "  \"ResponseMetadata\": {\n",
      "    \"RequestId\": \"1a639dd9-169f-4757-828b-ac89b2072dc6\",\n",
      "    \"HTTPStatusCode\": 200,\n",
      "    \"HTTPHeaders\": {\n",
      "      \"date\": \"Mon, 06 Mar 2023 09:06:48 GMT\",\n",
      "      \"content-type\": \"application/x-amz-json-1.1\",\n",
      "      \"content-length\": \"129\",\n",
      "      \"connection\": \"keep-alive\",\n",
      "      \"x-amzn-requestid\": \"1a639dd9-169f-4757-828b-ac89b2072dc6\"\n",
      "    },\n",
      "    \"RetryAttempts\": 0\n",
      "  }\n",
      "}\n"
     ]
    }
   ],
   "source": [
    "create_item_dataset_import_job_response = personalize.create_dataset_import_job(\n",
    "    jobName = \"RetailDemo-cvr-item-dataset-import\",\n",
    "    datasetArn = cvr_item_dataset_arn,\n",
    "    dataSource = {\n",
    "        \"dataLocation\": \"s3://{}/{}\".format(bucket, cvr_items_filename)\n",
    "    },\n",
    "    roleArn = role_arn\n",
    ")\n",
    "\n",
    "cvr_item_dataset_import_job_arn = create_item_dataset_import_job_response['datasetImportJobArn']\n",
    "print(json.dumps(create_dataset_import_job_response, indent=2))"
   ]
  },
  {
   "cell_type": "markdown",
   "id": "536f2b2d-3d76-4159-91a7-01f3ba9d487b",
   "metadata": {},
   "source": [
    "#### 유저 데이터 세트 Import Job 생성 (CVR 적용 데이터셋)"
   ]
  },
  {
   "cell_type": "code",
   "execution_count": 31,
   "id": "533dcfcf-b931-48ae-a37d-f3e555778f70",
   "metadata": {},
   "outputs": [
    {
     "name": "stdout",
     "output_type": "stream",
     "text": [
      "{\n",
      "  \"datasetImportJobArn\": \"arn:aws:personalize:us-east-1:376278017302:dataset-import-job/RetailDemo-cvr-user-dataset-import\",\n",
      "  \"ResponseMetadata\": {\n",
      "    \"RequestId\": \"69540997-0541-4317-bad8-258e920f41d9\",\n",
      "    \"HTTPStatusCode\": 200,\n",
      "    \"HTTPHeaders\": {\n",
      "      \"date\": \"Mon, 06 Mar 2023 13:44:11 GMT\",\n",
      "      \"content-type\": \"application/x-amz-json-1.1\",\n",
      "      \"content-length\": \"122\",\n",
      "      \"connection\": \"keep-alive\",\n",
      "      \"x-amzn-requestid\": \"69540997-0541-4317-bad8-258e920f41d9\"\n",
      "    },\n",
      "    \"RetryAttempts\": 0\n",
      "  }\n",
      "}\n"
     ]
    }
   ],
   "source": [
    "create_user_dataset_import_job_response = personalize.create_dataset_import_job(\n",
    "    jobName = \"RetailDemo-cvr-user-dataset-import\",\n",
    "    datasetArn = cvr_user_dataset_arn,\n",
    "    dataSource = {\n",
    "        \"dataLocation\": \"s3://{}/{}\".format(bucket, cvr_users_filename)\n",
    "    },\n",
    "    roleArn = role_arn\n",
    ")\n",
    "\n",
    "cvr_user_dataset_import_job_arn = create_user_dataset_import_job_response['datasetImportJobArn']\n",
    "print(json.dumps(create_user_dataset_import_job_response, indent=2))"
   ]
  },
  {
   "cell_type": "markdown",
   "id": "638472a2-c9dc-4f70-91b3-6f6541cf4a3a",
   "metadata": {},
   "source": [
    "### 데이터 세트 Import job이 활성화 상태가 될 때까지 대기\n",
    "\n",
    "Import job이 완료되기까지 시간이 걸립니다. 아래 코드 셀의 출력 결과가 DatasetImportJob: ACTIVE가 될 때까지 기다려 주세요."
   ]
  },
  {
   "cell_type": "markdown",
   "id": "0b410775-22f3-40ce-9934-231d1d8f8b7e",
   "metadata": {},
   "source": [
    "#### 인터렉션"
   ]
  },
  {
   "cell_type": "code",
   "execution_count": 35,
   "id": "a3a2d402-0ae5-4e85-b346-663306a3f1ca",
   "metadata": {},
   "outputs": [
    {
     "name": "stdout",
     "output_type": "stream",
     "text": [
      "DatasetImportJob: ACTIVE\n",
      "CPU times: user 3.3 ms, sys: 0 ns, total: 3.3 ms\n",
      "Wall time: 28.3 ms\n"
     ]
    }
   ],
   "source": [
    "%%time\n",
    "\n",
    "status = None\n",
    "max_time = time.time() + 3*60*60 # 3 hours\n",
    "while time.time() < max_time:\n",
    "    describe_dataset_import_job_response = personalize.describe_dataset_import_job(\n",
    "        datasetImportJobArn = cvr_interation_dataset_import_job_arn\n",
    "    )\n",
    "    \n",
    "    dataset_import_job = describe_dataset_import_job_response[\"datasetImportJob\"]\n",
    "    if \"latestDatasetImportJobRun\" not in dataset_import_job:\n",
    "        status = dataset_import_job[\"status\"]\n",
    "        print(\"DatasetImportJob: {}\".format(status))\n",
    "    else:\n",
    "        status = dataset_import_job[\"latestDatasetImportJobRun\"][\"status\"]\n",
    "        print(\"LatestDatasetImportJobRun: {}\".format(status))\n",
    "    \n",
    "    if status == \"ACTIVE\" or status == \"CREATE FAILED\":\n",
    "        break\n",
    "        \n",
    "    time.sleep(60)"
   ]
  },
  {
   "cell_type": "markdown",
   "id": "13f67a50-edf9-44e6-9794-b53885fe8613",
   "metadata": {},
   "source": [
    "#### 아이템"
   ]
  },
  {
   "cell_type": "code",
   "execution_count": 36,
   "id": "5368fe7b-e48d-4227-b861-10230b92e3d9",
   "metadata": {},
   "outputs": [
    {
     "name": "stdout",
     "output_type": "stream",
     "text": [
      "DatasetImportJob: ACTIVE\n"
     ]
    }
   ],
   "source": [
    "status = None\n",
    "max_time = time.time() + 3*60*60 # 3 hours\n",
    "while time.time() < max_time:\n",
    "    describe_dataset_import_job_response = personalize.describe_dataset_import_job(\n",
    "        datasetImportJobArn = cvr_item_dataset_import_job_arn\n",
    "    )\n",
    "    \n",
    "    dataset_import_job = describe_dataset_import_job_response[\"datasetImportJob\"]\n",
    "    if \"latestDatasetImportJobRun\" not in dataset_import_job:\n",
    "        status = dataset_import_job[\"status\"]\n",
    "        print(\"DatasetImportJob: {}\".format(status))\n",
    "    else:\n",
    "        status = dataset_import_job[\"latestDatasetImportJobRun\"][\"status\"]\n",
    "        print(\"LatestDatasetImportJobRun: {}\".format(status))\n",
    "    \n",
    "    if status == \"ACTIVE\" or status == \"CREATE FAILED\":\n",
    "        break\n",
    "        \n",
    "    time.sleep(60)"
   ]
  },
  {
   "cell_type": "markdown",
   "id": "c89e1e39-3b9b-4f46-994a-5f8eeff36ccc",
   "metadata": {},
   "source": [
    "#### 유저"
   ]
  },
  {
   "cell_type": "code",
   "execution_count": 37,
   "id": "ab679ca4-db63-44dc-8b00-837238fefab7",
   "metadata": {},
   "outputs": [
    {
     "name": "stdout",
     "output_type": "stream",
     "text": [
      "DatasetImportJob: ACTIVE\n"
     ]
    }
   ],
   "source": [
    "status = None\n",
    "max_time = time.time() + 3*60*60 # 3 hours\n",
    "while time.time() < max_time:\n",
    "    describe_dataset_import_job_response = personalize.describe_dataset_import_job(\n",
    "        datasetImportJobArn = cvr_user_dataset_import_job_arn\n",
    "    )\n",
    "    \n",
    "    dataset_import_job = describe_dataset_import_job_response[\"datasetImportJob\"]\n",
    "    if \"latestDatasetImportJobRun\" not in dataset_import_job:\n",
    "        status = dataset_import_job[\"status\"]\n",
    "        print(\"DatasetImportJob: {}\".format(status))\n",
    "    else:\n",
    "        status = dataset_import_job[\"latestDatasetImportJobRun\"][\"status\"]\n",
    "        print(\"LatestDatasetImportJobRun: {}\".format(status))\n",
    "    \n",
    "    if status == \"ACTIVE\" or status == \"CREATE FAILED\":\n",
    "        break\n",
    "        \n",
    "    time.sleep(60)"
   ]
  },
  {
   "cell_type": "markdown",
   "id": "597bc58a-9c69-4429-902f-b4df46a09c02",
   "metadata": {},
   "source": [
    "## Review\n",
    "\n",
    "위의 코드를 사용하여 데이타 세트 그룹, 데이타 세트, 데이타 세트 Import까지를 수행 하였습니다. 다음 단계는 이를 기반으로 솔류션(모델)을 생성하는 단계를 진행 합니다.\n",
    "\n",
    "\n",
    "## 다음 노트북에 대한 참고 사항\n",
    "\n",
    "다음 실습에 필요한 몇 가지 값들이 있습니다. 아래 셀을 실행하여 저장한 후, 다음 주피터 노트북에서 그대로 사용할 수 있습니다."
   ]
  },
  {
   "cell_type": "code",
   "execution_count": 38,
   "id": "5152d416-b265-4506-a3c8-94bbecc6c09b",
   "metadata": {},
   "outputs": [
    {
     "name": "stdout",
     "output_type": "stream",
     "text": [
      "Stored 'base_dataset_group_arn' (str)\n",
      "Stored 'base_interaction_dataset_arn' (str)\n",
      "Stored 'base_item_dataset_arn' (str)\n",
      "Stored 'base_user_dataset_arn' (str)\n",
      "Stored 'base_item_schema_arn' (str)\n",
      "Stored 'cvr_dataset_group_arn' (str)\n",
      "Stored 'cvr_interaction_dataset_arn' (str)\n",
      "Stored 'cvr_item_dataset_arn' (str)\n",
      "Stored 'cvr_user_dataset_arn' (str)\n",
      "Stored 'cvr_item_schema_arn' (str)\n",
      "Stored 'interaction_schema_arn' (str)\n",
      "Stored 'user_schema_arn' (str)\n",
      "Stored 'role_arn' (str)\n"
     ]
    }
   ],
   "source": [
    "%store base_dataset_group_arn\n",
    "%store base_interaction_dataset_arn\n",
    "%store base_item_dataset_arn\n",
    "%store base_user_dataset_arn\n",
    "%store base_item_schema_arn\n",
    "\n",
    "%store cvr_dataset_group_arn\n",
    "%store cvr_interaction_dataset_arn\n",
    "%store cvr_item_dataset_arn\n",
    "%store cvr_user_dataset_arn\n",
    "%store cvr_item_schema_arn\n",
    "\n",
    "%store interaction_schema_arn\n",
    "%store user_schema_arn\n",
    "\n",
    "%store role_arn"
   ]
  },
  {
   "cell_type": "code",
   "execution_count": null,
   "id": "0f6a7041-81dc-49aa-a85e-ce77aaaaee48",
   "metadata": {},
   "outputs": [],
   "source": []
  }
 ],
 "metadata": {
  "kernelspec": {
   "display_name": "conda_python3",
   "language": "python",
   "name": "conda_python3"
  },
  "language_info": {
   "codemirror_mode": {
    "name": "ipython",
    "version": 3
   },
   "file_extension": ".py",
   "mimetype": "text/x-python",
   "name": "python",
   "nbconvert_exporter": "python",
   "pygments_lexer": "ipython3",
   "version": "3.10.6"
  }
 },
 "nbformat": 4,
 "nbformat_minor": 5
}
