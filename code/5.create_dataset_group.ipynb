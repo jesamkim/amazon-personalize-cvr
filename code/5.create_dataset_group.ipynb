{
 "cells": [
  {
   "cell_type": "markdown",
   "id": "65c0f24b-8a60-4a0a-ba27-b1c7d54b209e",
   "metadata": {},
   "source": [
    "# [Module 5] Create Dataset Group\n",
    "\n",
    "\n",
    "* IAM Role 생성 및 권한 할당\n",
    "    - Personalize 서비스가 사용할 역할을 생성 및 권한을 할당 합니다.\n",
    "* 데이타 세트 그룹 생성 (DatasetGroup)    \n",
    "* 데이타 스키마 생성\n",
    "* 데이타 세트 생성 (Dataset)\n",
    "* 데이타 Import (S3 --> Personalize 서비스로 다운로드)\n",
    "\n",
    "---"
   ]
  },
  {
   "cell_type": "markdown",
   "id": "eebf84e0-6429-4f37-bd35-d4bcd910c875",
   "metadata": {
    "tags": []
   },
   "source": [
    "# 0. 환경 설정"
   ]
  },
  {
   "cell_type": "code",
   "execution_count": 1,
   "id": "bb652a88-47d5-4956-ba29-b9a11f66963e",
   "metadata": {
    "tags": []
   },
   "outputs": [],
   "source": [
    "# Imports\n",
    "import boto3\n",
    "import json\n",
    "import numpy as np\n",
    "import pandas as pd\n",
    "import time\n",
    "from datetime import datetime\n",
    "\n",
    "import matplotlib.pyplot as plt\n",
    "from matplotlib.dates import DateFormatter\n",
    "import matplotlib.dates as mdate\n",
    "from botocore.exceptions import ClientError"
   ]
  },
  {
   "cell_type": "markdown",
   "id": "60c45a19-5926-44ad-84f7-654f82ae68ea",
   "metadata": {},
   "source": [
    "다음으로 여러분의 환경이 Amazon Personalize와 성공적으로 통신할 수 있는지 확인해야 합니다."
   ]
  },
  {
   "cell_type": "code",
   "execution_count": 2,
   "id": "b211f1c3-5e1d-4370-bddd-0aba90eb0b4b",
   "metadata": {},
   "outputs": [],
   "source": [
    "# Configure the SDK to Personalize:\n",
    "personalize = boto3.client('personalize')"
   ]
  },
  {
   "cell_type": "markdown",
   "id": "8f3f3987-7572-4aa5-a46e-185e03c497e7",
   "metadata": {},
   "source": [
    "생성할 오브젝트의 끝에 임의의 숫자를 부여하기 위해 suffix 정의"
   ]
  },
  {
   "cell_type": "code",
   "execution_count": 3,
   "id": "fee04788-c0dc-41bf-98e1-bc76527e5bf6",
   "metadata": {},
   "outputs": [],
   "source": [
    "suffix = str(np.random.uniform())[4:9]"
   ]
  },
  {
   "cell_type": "code",
   "execution_count": 19,
   "id": "7872a166-b1de-4a80-afb1-9e9ed5de56d2",
   "metadata": {},
   "outputs": [],
   "source": [
    "%store -r"
   ]
  },
  {
   "cell_type": "markdown",
   "id": "09ae1283-9535-4982-82df-0e960ea63aeb",
   "metadata": {
    "tags": []
   },
   "source": [
    "## 1. Personalize Service의 S3 접근 권한\n",
    "Personalize Service 는 해당 S3 버킷에 접근하기 위해서 권한"
   ]
  },
  {
   "cell_type": "code",
   "execution_count": 5,
   "id": "c1c59dc5-af11-49b7-b6d6-82a6ed886c4c",
   "metadata": {},
   "outputs": [
    {
     "data": {
      "text/plain": [
       "{'ResponseMetadata': {'RequestId': 'MKGYA1AKR00JSK7S',\n",
       "  'HostId': 'drxP32ueZyOi5i2GsV/5/1dGZZHW/75HfLGi5EvpxnhiZxgDPtIgHYXUYIoWy7ggMZ0L6Yphbso=',\n",
       "  'HTTPStatusCode': 204,\n",
       "  'HTTPHeaders': {'x-amz-id-2': 'drxP32ueZyOi5i2GsV/5/1dGZZHW/75HfLGi5EvpxnhiZxgDPtIgHYXUYIoWy7ggMZ0L6Yphbso=',\n",
       "   'x-amz-request-id': 'MKGYA1AKR00JSK7S',\n",
       "   'date': 'Tue, 28 Feb 2023 11:42:09 GMT',\n",
       "   'server': 'AmazonS3'},\n",
       "  'RetryAttempts': 0}}"
      ]
     },
     "execution_count": 5,
     "metadata": {},
     "output_type": "execute_result"
    }
   ],
   "source": [
    "s3 = boto3.client(\"s3\")\n",
    "\n",
    "policy = {\n",
    "    \"Version\": \"2012-10-17\",\n",
    "    \"Id\": \"PersonalizeS3BucketAccessPolicy\",\n",
    "    \"Statement\": [\n",
    "        {\n",
    "            \"Sid\": \"PersonalizeS3BucketAccessPolicy\",\n",
    "            \"Effect\": \"Allow\",\n",
    "            \"Principal\": {\n",
    "                \"Service\": \"personalize.amazonaws.com\"\n",
    "            },\n",
    "            \"Action\": [\n",
    "                \"s3:*\",\n",
    "            ],\n",
    "            \"Resource\": [\n",
    "                \"arn:aws:s3:::{}\".format(bucket),\n",
    "                \"arn:aws:s3:::{}/*\".format(bucket)\n",
    "            ]\n",
    "        }\n",
    "    ]\n",
    "}\n",
    "\n",
    "s3.put_bucket_policy(Bucket=bucket, Policy=json.dumps(policy))"
   ]
  },
  {
   "cell_type": "markdown",
   "id": "3e3e9fb5-ce51-4f32-9105-d09f88fce542",
   "metadata": {},
   "source": [
    "## Personalize IAM Role\n",
    "\n",
    "또한, Amazon Personalize는 특정 작업들을 실행할 권한을 갖기 위해, AWS에서 역할을 맡을 수 있는 기능이 필요합니다. \n",
    "예를 들어 Personalize 는 S3에 접근을 해야 합니다. 그래서 이를 위한 역할이 필요하고, 이 역할은 S3 접근 권한이 필요 합니다."
   ]
  },
  {
   "cell_type": "code",
   "execution_count": 6,
   "id": "c62e9b63-f57f-4fab-ad62-e2529f274cd4",
   "metadata": {},
   "outputs": [
    {
     "name": "stdout",
     "output_type": "stream",
     "text": [
      "arn:aws:iam::376278017302:role/service-role/AmazonSageMaker-ExecutionRole-20230112T204234\n"
     ]
    }
   ],
   "source": [
    "# 이미 기존에 사용하신 Role 이 있으면 아래와 Role ARN 을 넣고 사용함.\n",
    "\n",
    "role_arn = \"arn:aws:iam::376278017302:role/service-role/AmazonSageMaker-ExecutionRole-20230112T204234\"\n",
    "print(role_arn)"
   ]
  },
  {
   "cell_type": "markdown",
   "id": "6fae673b-0709-49e8-b3cc-f256183e9d88",
   "metadata": {},
   "source": [
    "## 2. 데이터 세트 그룹 생성 및 대기\n",
    "\n",
    "Personalize에서 가장 큰 단위는 **데이터 세트 그룹(Dataset Group)** 이며, 이렇게 하면 데이터, 이벤트 추적기(event tracker), 솔루션(solution) 및 캠페인(campaign)이 분리됩니다. 공통의 데이터 수집을 공유하는 것들을 그룹화합니다. 원하는 경우 아래 그룹명을 자유롭게 변경해 주세요."
   ]
  },
  {
   "cell_type": "markdown",
   "id": "b227d7f9-b22e-4337-930d-ffd3a8c64c6f",
   "metadata": {},
   "source": [
    "### 2.1 데이터 세트 그룹 생성"
   ]
  },
  {
   "cell_type": "code",
   "execution_count": 7,
   "id": "95de19a4-62bb-4246-90c4-b2172c22df6b",
   "metadata": {},
   "outputs": [],
   "source": [
    "create_dataset_group_response = personalize.create_dataset_group(\n",
    "    name = \"RetailDemo-dataset-group-\" + suffix\n",
    ")"
   ]
  },
  {
   "cell_type": "code",
   "execution_count": 8,
   "id": "5b623511-4f32-43b3-9089-64ea4a2e89e6",
   "metadata": {},
   "outputs": [
    {
     "data": {
      "text/plain": [
       "'arn:aws:personalize:us-east-1:376278017302:dataset-group/RetailDemo-dataset-group-39668'"
      ]
     },
     "execution_count": 8,
     "metadata": {},
     "output_type": "execute_result"
    }
   ],
   "source": [
    "dataset_group_arn = create_dataset_group_response['datasetGroupArn']\n",
    "dataset_group_arn"
   ]
  },
  {
   "cell_type": "markdown",
   "id": "d9cb33df-aa0e-4385-89d0-261903879e07",
   "metadata": {},
   "source": [
    "#### 데이터 세트 그룹이 활성화 상태가 될 때까지 대기\n",
    "\n",
    "아래의 모든 항목에서 Dataset Group을 사용하려면 활성화(active)가 되어야 합니다. 아래 셀을 실행하고 DatasetGroup: ACTIVE로 변경될 때까지 기다려 주세요."
   ]
  },
  {
   "cell_type": "code",
   "execution_count": 9,
   "id": "3c0baaba-342a-43aa-ad07-8eec83d51ec5",
   "metadata": {},
   "outputs": [
    {
     "name": "stdout",
     "output_type": "stream",
     "text": [
      "DatasetGroup: ACTIVE\n"
     ]
    }
   ],
   "source": [
    "max_time = time.time() + 3*60*60 # 3 hours\n",
    "while time.time() < max_time:\n",
    "    describe_dataset_group_response = personalize.describe_dataset_group(\n",
    "        datasetGroupArn = dataset_group_arn\n",
    "    )\n",
    "    status = describe_dataset_group_response[\"datasetGroup\"][\"status\"]\n",
    "    print(\"DatasetGroup: {}\".format(status))\n",
    "    \n",
    "    if status == \"ACTIVE\" or status == \"CREATE FAILED\":\n",
    "        break\n",
    "        \n",
    "    time.sleep(15)"
   ]
  },
  {
   "cell_type": "markdown",
   "id": "6318f023-5c70-4f8c-a5fa-59012273bd08",
   "metadata": {},
   "source": [
    "## 3. 스키마 생성\n",
    "\n",
    "Personalize가 데이터를 이해하는 방법의 핵심 구성 요소는 아래 정의 된 스키마(schema)에서 비롯됩니다. 이 설정은 CSV 파일을 통해 제공된 데이터를 요약하는 방법을 Personalize 서비스에 알려줍니다. 열(column)과 유형(type)은 위에서 만든 파일의 내용과 일치합니다."
   ]
  },
  {
   "cell_type": "markdown",
   "id": "8bd2d222-90ac-4e42-b674-2e687ad9c688",
   "metadata": {},
   "source": [
    "### 3.1 인터렉션"
   ]
  },
  {
   "cell_type": "code",
   "execution_count": 10,
   "id": "9aa13efd-58f4-43ec-a9b3-f49748e4c31f",
   "metadata": {},
   "outputs": [
    {
     "name": "stdout",
     "output_type": "stream",
     "text": [
      "{\n",
      "  \"schemaArn\": \"arn:aws:personalize:us-east-1:376278017302:schema/RetailDemo-interaction-schema-39668\",\n",
      "  \"ResponseMetadata\": {\n",
      "    \"RequestId\": \"81c1d519-9ec3-48b7-872d-0f527d45549c\",\n",
      "    \"HTTPStatusCode\": 200,\n",
      "    \"HTTPHeaders\": {\n",
      "      \"date\": \"Tue, 28 Feb 2023 12:00:34 GMT\",\n",
      "      \"content-type\": \"application/x-amz-json-1.1\",\n",
      "      \"content-length\": \"101\",\n",
      "      \"connection\": \"keep-alive\",\n",
      "      \"x-amzn-requestid\": \"81c1d519-9ec3-48b7-872d-0f527d45549c\"\n",
      "    },\n",
      "    \"RetryAttempts\": 0\n",
      "  }\n",
      "}\n"
     ]
    }
   ],
   "source": [
    "interaction_schema_name=\"RetailDemo-interaction-schema-\"+suffix\n",
    "\n",
    "schema = {\n",
    "    \"type\": \"record\",\n",
    "    \"name\": \"Interactions\",\n",
    "    \"namespace\": \"com.amazonaws.personalize.schema\",\n",
    "    \"fields\": [\n",
    "        {\n",
    "            \"name\": \"USER_ID\",\n",
    "            \"type\": \"string\"\n",
    "        },\n",
    "        {\n",
    "            \"name\": \"ITEM_ID\",\n",
    "            \"type\": \"string\"\n",
    "        },\n",
    "        { \n",
    "            \"name\": \"EVENT_TYPE\",\n",
    "            \"type\": \"string\"\n",
    "        },        \n",
    "        {\n",
    "            \"name\": \"TIMESTAMP\",\n",
    "            \"type\": \"long\"\n",
    "        }\n",
    "    ],\n",
    "    \"version\": \"1.0\"\n",
    "}\n",
    "\n",
    "\n",
    "create_schema_response = personalize.create_schema( \n",
    "    name = interaction_schema_name,\n",
    "    schema = json.dumps(schema)\n",
    ")\n",
    "\n",
    "interaction_schema_arn = create_schema_response['schemaArn']\n",
    "print(json.dumps(create_schema_response, indent=2))"
   ]
  },
  {
   "cell_type": "markdown",
   "id": "a87a884e-9108-4a82-b53a-77dfed708df8",
   "metadata": {},
   "source": [
    "### 3.2 아이템"
   ]
  },
  {
   "cell_type": "code",
   "execution_count": 11,
   "id": "e5698bf3-5c0e-4eca-8d63-22e43e30456c",
   "metadata": {},
   "outputs": [
    {
     "name": "stdout",
     "output_type": "stream",
     "text": [
      "{\n",
      "  \"schemaArn\": \"arn:aws:personalize:us-east-1:376278017302:schema/RetailDemo-item-schema-39668\",\n",
      "  \"ResponseMetadata\": {\n",
      "    \"RequestId\": \"5ef1e733-b46b-4f3f-82a0-ff9d844b0788\",\n",
      "    \"HTTPStatusCode\": 200,\n",
      "    \"HTTPHeaders\": {\n",
      "      \"date\": \"Tue, 28 Feb 2023 12:03:14 GMT\",\n",
      "      \"content-type\": \"application/x-amz-json-1.1\",\n",
      "      \"content-length\": \"94\",\n",
      "      \"connection\": \"keep-alive\",\n",
      "      \"x-amzn-requestid\": \"5ef1e733-b46b-4f3f-82a0-ff9d844b0788\"\n",
      "    },\n",
      "    \"RetryAttempts\": 0\n",
      "  }\n",
      "}\n"
     ]
    }
   ],
   "source": [
    "item_schema_name=\"RetailDemo-item-schema-\"+suffix\n",
    "\n",
    "item_schema = {\n",
    "    \"type\": \"record\",\n",
    "    \"name\": \"Items\",\n",
    "    \"namespace\": \"com.amazonaws.personalize.schema\",\n",
    "    \"fields\": [\n",
    "    {\n",
    "        \"name\": \"ITEM_ID\",\n",
    "        \"type\": \"string\"\n",
    "    },\n",
    "    {\n",
    "      \"name\": \"PRICE\",\n",
    "      \"type\": \"float\"\n",
    "    },\n",
    "    {\n",
    "      \"name\": \"CVR\",\n",
    "      \"type\": \"float\"\n",
    "    }, \n",
    "    {\n",
    "      \"name\": \"CATEGORY_L1\",\n",
    "      \"type\": [\n",
    "        \"string\"\n",
    "      ],\n",
    "      \"categorical\": True\n",
    "    }        \n",
    "    ],\n",
    "    \"version\": \"1.0\"\n",
    "}\n",
    "\n",
    "create_metadata_schema_response = personalize.create_schema(      \n",
    "    name = item_schema_name,\n",
    "    schema = json.dumps(item_schema)\n",
    ")\n",
    "\n",
    "item_schema_arn = create_metadata_schema_response['schemaArn']\n",
    "print(json.dumps(create_metadata_schema_response, indent=2))"
   ]
  },
  {
   "cell_type": "markdown",
   "id": "f1f7a176-8054-45ec-9009-25c5a297227a",
   "metadata": {},
   "source": [
    "### 3.3 유저"
   ]
  },
  {
   "cell_type": "code",
   "execution_count": 13,
   "id": "ae9c12b0-ab64-4f3b-a592-5984c1cc9da7",
   "metadata": {},
   "outputs": [
    {
     "name": "stdout",
     "output_type": "stream",
     "text": [
      "{\n",
      "  \"schemaArn\": \"arn:aws:personalize:us-east-1:376278017302:schema/RetailDemo-user-schema-39668\",\n",
      "  \"ResponseMetadata\": {\n",
      "    \"RequestId\": \"78a6f9a7-9846-4e28-b0c2-d04dd9d6946a\",\n",
      "    \"HTTPStatusCode\": 200,\n",
      "    \"HTTPHeaders\": {\n",
      "      \"date\": \"Tue, 28 Feb 2023 12:04:15 GMT\",\n",
      "      \"content-type\": \"application/x-amz-json-1.1\",\n",
      "      \"content-length\": \"94\",\n",
      "      \"connection\": \"keep-alive\",\n",
      "      \"x-amzn-requestid\": \"78a6f9a7-9846-4e28-b0c2-d04dd9d6946a\"\n",
      "    },\n",
      "    \"RetryAttempts\": 0\n",
      "  }\n",
      "}\n"
     ]
    }
   ],
   "source": [
    "user_schema_name=\"RetailDemo-user-schema-\"+suffix\n",
    "\n",
    "user_schema = {\n",
    "    \"type\": \"record\",\n",
    "    \"name\": \"Users\",\n",
    "    \"namespace\": \"com.amazonaws.personalize.schema\",\n",
    "    \"fields\": [\n",
    "    {\n",
    "        \"name\": \"USER_ID\",\n",
    "        \"type\": \"string\"\n",
    "    },\n",
    "    {\n",
    "      \"name\": \"USER_NAME\",\n",
    "      \"type\": \"string\"\n",
    "    },        \n",
    "    {\n",
    "      \"name\": \"GENDER\",\n",
    "      \"type\": [\n",
    "        \"string\"\n",
    "      ],\n",
    "      \"categorical\": True\n",
    "    }        \n",
    "    ],\n",
    "    \"version\": \"1.0\"\n",
    "}\n",
    "\n",
    "create_metadata_schema_response = personalize.create_schema(      \n",
    "    name = user_schema_name,\n",
    "    schema = json.dumps(user_schema)\n",
    ")\n",
    "\n",
    "user_schema_arn = create_metadata_schema_response['schemaArn']\n",
    "print(json.dumps(create_metadata_schema_response, indent=2))"
   ]
  },
  {
   "cell_type": "markdown",
   "id": "d971b718-f60b-4e2e-a49e-19546181cb53",
   "metadata": {},
   "source": [
    "## 4. 데이터 세트 생성\n",
    "\n",
    "그룹 다음으로 생성할 것은 실제 데이터 세트입니다. 아래의 코드 셀을 실행하여 데이터 세트을 생성해 주세요."
   ]
  },
  {
   "cell_type": "markdown",
   "id": "d31b4fa4-5766-4a4d-b684-9c36a9cda14d",
   "metadata": {},
   "source": [
    "### 4.1 Interactions 데이터 세트 생성"
   ]
  },
  {
   "cell_type": "code",
   "execution_count": 14,
   "id": "4f031f8b-e6a8-4c73-8a24-975a294feba8",
   "metadata": {},
   "outputs": [
    {
     "name": "stdout",
     "output_type": "stream",
     "text": [
      "{\n",
      "  \"datasetArn\": \"arn:aws:personalize:us-east-1:376278017302:dataset/RetailDemo-dataset-group-39668/INTERACTIONS\",\n",
      "  \"ResponseMetadata\": {\n",
      "    \"RequestId\": \"c1f3c16b-0f5d-487a-972d-83c8a2010e38\",\n",
      "    \"HTTPStatusCode\": 200,\n",
      "    \"HTTPHeaders\": {\n",
      "      \"date\": \"Tue, 28 Feb 2023 12:05:35 GMT\",\n",
      "      \"content-type\": \"application/x-amz-json-1.1\",\n",
      "      \"content-length\": \"111\",\n",
      "      \"connection\": \"keep-alive\",\n",
      "      \"x-amzn-requestid\": \"c1f3c16b-0f5d-487a-972d-83c8a2010e38\"\n",
      "    },\n",
      "    \"RetryAttempts\": 0\n",
      "  }\n",
      "}\n"
     ]
    }
   ],
   "source": [
    "dataset_type = \"INTERACTIONS\"\n",
    "create_dataset_response = personalize.create_dataset(\n",
    "    name = \"RetailDemo-interaction-dataset-\" + suffix,\n",
    "    datasetType = dataset_type,\n",
    "    datasetGroupArn = dataset_group_arn,\n",
    "    schemaArn = interaction_schema_arn\n",
    ")\n",
    "\n",
    "interaction_dataset_arn = create_dataset_response['datasetArn']\n",
    "print(json.dumps(create_dataset_response, indent=2))"
   ]
  },
  {
   "cell_type": "markdown",
   "id": "0c3ce641-e08e-497e-8e5d-d8f7609ac36d",
   "metadata": {},
   "source": [
    "### 4.2 Items 데이터 세트 생성"
   ]
  },
  {
   "cell_type": "code",
   "execution_count": 15,
   "id": "9d7ca40f-1c9d-49d3-9a40-4b4c1183f44d",
   "metadata": {},
   "outputs": [
    {
     "name": "stdout",
     "output_type": "stream",
     "text": [
      "{\n",
      "  \"datasetArn\": \"arn:aws:personalize:us-east-1:376278017302:dataset/RetailDemo-dataset-group-39668/ITEMS\",\n",
      "  \"ResponseMetadata\": {\n",
      "    \"RequestId\": \"d0b05d09-f0aa-44a7-ac6a-0ccd003d6976\",\n",
      "    \"HTTPStatusCode\": 200,\n",
      "    \"HTTPHeaders\": {\n",
      "      \"date\": \"Tue, 28 Feb 2023 12:06:05 GMT\",\n",
      "      \"content-type\": \"application/x-amz-json-1.1\",\n",
      "      \"content-length\": \"104\",\n",
      "      \"connection\": \"keep-alive\",\n",
      "      \"x-amzn-requestid\": \"d0b05d09-f0aa-44a7-ac6a-0ccd003d6976\"\n",
      "    },\n",
      "    \"RetryAttempts\": 0\n",
      "  }\n",
      "}\n"
     ]
    }
   ],
   "source": [
    "dataset_type = \"ITEMS\"\n",
    "create_item_dataset_response = personalize.create_dataset(\n",
    "    name = \"RetailDemo-item-dataset-\" + suffix,\n",
    "    datasetType = dataset_type,\n",
    "    datasetGroupArn = dataset_group_arn,\n",
    "    schemaArn = item_schema_arn,\n",
    "  \n",
    ")\n",
    "\n",
    "item_dataset_arn = create_item_dataset_response['datasetArn']\n",
    "print(json.dumps(create_item_dataset_response, indent=2))"
   ]
  },
  {
   "cell_type": "markdown",
   "id": "2ec3bf33-46ad-4a2f-9a1a-fe24062f0fb9",
   "metadata": {},
   "source": [
    "### 4.3 Users 데이터 세트 생성"
   ]
  },
  {
   "cell_type": "code",
   "execution_count": 16,
   "id": "7ecee45e-32ad-4153-a0d7-9fcdf20803ff",
   "metadata": {},
   "outputs": [
    {
     "name": "stdout",
     "output_type": "stream",
     "text": [
      "{\n",
      "  \"datasetArn\": \"arn:aws:personalize:us-east-1:376278017302:dataset/RetailDemo-dataset-group-39668/USERS\",\n",
      "  \"ResponseMetadata\": {\n",
      "    \"RequestId\": \"5e9a7aa8-40e3-4bbe-9b40-aad8b42193f2\",\n",
      "    \"HTTPStatusCode\": 200,\n",
      "    \"HTTPHeaders\": {\n",
      "      \"date\": \"Tue, 28 Feb 2023 12:06:24 GMT\",\n",
      "      \"content-type\": \"application/x-amz-json-1.1\",\n",
      "      \"content-length\": \"104\",\n",
      "      \"connection\": \"keep-alive\",\n",
      "      \"x-amzn-requestid\": \"5e9a7aa8-40e3-4bbe-9b40-aad8b42193f2\"\n",
      "    },\n",
      "    \"RetryAttempts\": 0\n",
      "  }\n",
      "}\n"
     ]
    }
   ],
   "source": [
    "dataset_type = \"USERS\"\n",
    "create_user_dataset_response = personalize.create_dataset(\n",
    "    name = \"RetailDemo-user-dataset-\" + suffix,\n",
    "    datasetType = dataset_type,\n",
    "    datasetGroupArn = dataset_group_arn,\n",
    "    schemaArn = user_schema_arn,\n",
    "  \n",
    ")\n",
    "\n",
    "user_dataset_arn = create_user_dataset_response['datasetArn']\n",
    "print(json.dumps(create_user_dataset_response, indent=2))"
   ]
  },
  {
   "cell_type": "markdown",
   "id": "9555a6d0-d83a-4fa4-b33a-05aca3002c4c",
   "metadata": {},
   "source": [
    "#### 데이터 세트 생성을 위해서 1분 기다림"
   ]
  },
  {
   "cell_type": "code",
   "execution_count": 17,
   "id": "1210402d-3e04-4ae0-9aaa-a261dedc408d",
   "metadata": {},
   "outputs": [],
   "source": [
    "time.sleep(60)"
   ]
  },
  {
   "cell_type": "markdown",
   "id": "f982cc23-6ee9-430f-a4f3-2b3eb6020a1a",
   "metadata": {},
   "source": [
    "## 5. 데이터 세트 Import\n",
    "\n",
    "이전에는 정보를 저장하기 위해 데이터 세트 그룹 및 데이터 세트를 생성했으므로, \n",
    "이제는 모델 구축을 위해 S3에서 Amazon Personalize로 데이터를 로드하는 import job을 실행합니다.\n",
    "\n",
    "#### Interaction 데이터 세트 Import Job 생성"
   ]
  },
  {
   "cell_type": "code",
   "execution_count": 24,
   "id": "60effee1-a93d-488a-9db5-0577d8f3d292",
   "metadata": {},
   "outputs": [
    {
     "name": "stdout",
     "output_type": "stream",
     "text": [
      "{\n",
      "  \"datasetImportJobArn\": \"arn:aws:personalize:us-east-1:376278017302:dataset-import-job/RetailDeom-interaction-dataset-import-39668\",\n",
      "  \"ResponseMetadata\": {\n",
      "    \"RequestId\": \"182b054d-478d-4f81-9eca-c8f658f86b15\",\n",
      "    \"HTTPStatusCode\": 200,\n",
      "    \"HTTPHeaders\": {\n",
      "      \"date\": \"Tue, 28 Feb 2023 12:14:44 GMT\",\n",
      "      \"content-type\": \"application/x-amz-json-1.1\",\n",
      "      \"content-length\": \"131\",\n",
      "      \"connection\": \"keep-alive\",\n",
      "      \"x-amzn-requestid\": \"182b054d-478d-4f81-9eca-c8f658f86b15\"\n",
      "    },\n",
      "    \"RetryAttempts\": 0\n",
      "  }\n",
      "}\n"
     ]
    }
   ],
   "source": [
    "create_dataset_import_job_response = personalize.create_dataset_import_job(\n",
    "    jobName = \"RetailDeom-interaction-dataset-import-\" + suffix,\n",
    "    datasetArn = interaction_dataset_arn,\n",
    "    dataSource = {\n",
    "        \"dataLocation\": \"s3://{}/{}\".format(bucket, warm_train_interaction_filename)\n",
    "    },\n",
    "    roleArn = role_arn\n",
    ")\n",
    "\n",
    "interation_dataset_import_job_arn = create_dataset_import_job_response['datasetImportJobArn']\n",
    "print(json.dumps(create_dataset_import_job_response, indent=2))"
   ]
  },
  {
   "cell_type": "markdown",
   "id": "62982954-d79c-4452-9288-6ba82491d4e8",
   "metadata": {},
   "source": [
    "#### 아이템 데이터 세트 Import Job 생성"
   ]
  },
  {
   "cell_type": "code",
   "execution_count": 25,
   "id": "49bb4913-0f74-42cf-a8cb-469a95fde687",
   "metadata": {},
   "outputs": [
    {
     "name": "stdout",
     "output_type": "stream",
     "text": [
      "{\n",
      "  \"datasetImportJobArn\": \"arn:aws:personalize:us-east-1:376278017302:dataset-import-job/RetailDeom-interaction-dataset-import-39668\",\n",
      "  \"ResponseMetadata\": {\n",
      "    \"RequestId\": \"182b054d-478d-4f81-9eca-c8f658f86b15\",\n",
      "    \"HTTPStatusCode\": 200,\n",
      "    \"HTTPHeaders\": {\n",
      "      \"date\": \"Tue, 28 Feb 2023 12:14:44 GMT\",\n",
      "      \"content-type\": \"application/x-amz-json-1.1\",\n",
      "      \"content-length\": \"131\",\n",
      "      \"connection\": \"keep-alive\",\n",
      "      \"x-amzn-requestid\": \"182b054d-478d-4f81-9eca-c8f658f86b15\"\n",
      "    },\n",
      "    \"RetryAttempts\": 0\n",
      "  }\n",
      "}\n"
     ]
    }
   ],
   "source": [
    "create_item_dataset_import_job_response = personalize.create_dataset_import_job(\n",
    "    jobName = \"RetailDemo-item-dataset-import-\" + suffix,\n",
    "    datasetArn = item_dataset_arn,\n",
    "    dataSource = {\n",
    "        \"dataLocation\": \"s3://{}/{}\".format(bucket, items_filename)\n",
    "    },\n",
    "    roleArn = role_arn\n",
    ")\n",
    "\n",
    "item_dataset_import_job_arn = create_item_dataset_import_job_response['datasetImportJobArn']\n",
    "print(json.dumps(create_dataset_import_job_response, indent=2))"
   ]
  },
  {
   "cell_type": "markdown",
   "id": "7877a5be-35ad-423f-9297-50282d096ba6",
   "metadata": {},
   "source": [
    "#### 유저 데이터 세트 Import Job 생성"
   ]
  },
  {
   "cell_type": "code",
   "execution_count": 26,
   "id": "21b5a17f-d752-4b41-aea6-6be02ea46406",
   "metadata": {},
   "outputs": [
    {
     "name": "stdout",
     "output_type": "stream",
     "text": [
      "{\n",
      "  \"datasetImportJobArn\": \"arn:aws:personalize:us-east-1:376278017302:dataset-import-job/RetailDemo-user-dataset-import-39668\",\n",
      "  \"ResponseMetadata\": {\n",
      "    \"RequestId\": \"e9c48bab-901d-404e-8f4b-fa623ad60b74\",\n",
      "    \"HTTPStatusCode\": 200,\n",
      "    \"HTTPHeaders\": {\n",
      "      \"date\": \"Tue, 28 Feb 2023 12:15:46 GMT\",\n",
      "      \"content-type\": \"application/x-amz-json-1.1\",\n",
      "      \"content-length\": \"124\",\n",
      "      \"connection\": \"keep-alive\",\n",
      "      \"x-amzn-requestid\": \"e9c48bab-901d-404e-8f4b-fa623ad60b74\"\n",
      "    },\n",
      "    \"RetryAttempts\": 0\n",
      "  }\n",
      "}\n"
     ]
    }
   ],
   "source": [
    "create_user_dataset_import_job_response = personalize.create_dataset_import_job(\n",
    "    jobName = \"RetailDemo-user-dataset-import-\" + suffix,\n",
    "    datasetArn = user_dataset_arn,\n",
    "    dataSource = {\n",
    "        \"dataLocation\": \"s3://{}/{}\".format(bucket, users_filename)\n",
    "    },\n",
    "    roleArn = role_arn\n",
    ")\n",
    "\n",
    "user_dataset_import_job_arn = create_user_dataset_import_job_response['datasetImportJobArn']\n",
    "print(json.dumps(create_user_dataset_import_job_response, indent=2))"
   ]
  },
  {
   "cell_type": "markdown",
   "id": "638472a2-c9dc-4f70-91b3-6f6541cf4a3a",
   "metadata": {},
   "source": [
    "### 데이터 세트 Import job이 활성화 상태가 될 때까지 대기\n",
    "\n",
    "Import job이 완료되기까지 시간이 걸립니다. 아래 코드 셀의 출력 결과가 DatasetImportJob: ACTIVE가 될 때까지 기다려 주세요."
   ]
  },
  {
   "cell_type": "markdown",
   "id": "0b410775-22f3-40ce-9934-231d1d8f8b7e",
   "metadata": {},
   "source": [
    "#### 인터렉션"
   ]
  },
  {
   "cell_type": "code",
   "execution_count": 27,
   "id": "a3a2d402-0ae5-4e85-b346-663306a3f1ca",
   "metadata": {},
   "outputs": [
    {
     "name": "stdout",
     "output_type": "stream",
     "text": [
      "DatasetImportJob: CREATE IN_PROGRESS\n",
      "DatasetImportJob: CREATE IN_PROGRESS\n",
      "DatasetImportJob: ACTIVE\n",
      "CPU times: user 24.6 ms, sys: 2.81 ms, total: 27.4 ms\n",
      "Wall time: 2min\n"
     ]
    }
   ],
   "source": [
    "%%time\n",
    "\n",
    "status = None\n",
    "max_time = time.time() + 3*60*60 # 3 hours\n",
    "while time.time() < max_time:\n",
    "    describe_dataset_import_job_response = personalize.describe_dataset_import_job(\n",
    "        datasetImportJobArn = interation_dataset_import_job_arn\n",
    "    )\n",
    "    \n",
    "    dataset_import_job = describe_dataset_import_job_response[\"datasetImportJob\"]\n",
    "    if \"latestDatasetImportJobRun\" not in dataset_import_job:\n",
    "        status = dataset_import_job[\"status\"]\n",
    "        print(\"DatasetImportJob: {}\".format(status))\n",
    "    else:\n",
    "        status = dataset_import_job[\"latestDatasetImportJobRun\"][\"status\"]\n",
    "        print(\"LatestDatasetImportJobRun: {}\".format(status))\n",
    "    \n",
    "    if status == \"ACTIVE\" or status == \"CREATE FAILED\":\n",
    "        break\n",
    "        \n",
    "    time.sleep(60)"
   ]
  },
  {
   "cell_type": "markdown",
   "id": "13f67a50-edf9-44e6-9794-b53885fe8613",
   "metadata": {},
   "source": [
    "#### 아이템"
   ]
  },
  {
   "cell_type": "code",
   "execution_count": 28,
   "id": "5368fe7b-e48d-4227-b861-10230b92e3d9",
   "metadata": {},
   "outputs": [
    {
     "name": "stdout",
     "output_type": "stream",
     "text": [
      "DatasetImportJob: ACTIVE\n"
     ]
    }
   ],
   "source": [
    "status = None\n",
    "max_time = time.time() + 3*60*60 # 3 hours\n",
    "while time.time() < max_time:\n",
    "    describe_dataset_import_job_response = personalize.describe_dataset_import_job(\n",
    "        datasetImportJobArn = item_dataset_import_job_arn\n",
    "    )\n",
    "    \n",
    "    dataset_import_job = describe_dataset_import_job_response[\"datasetImportJob\"]\n",
    "    if \"latestDatasetImportJobRun\" not in dataset_import_job:\n",
    "        status = dataset_import_job[\"status\"]\n",
    "        print(\"DatasetImportJob: {}\".format(status))\n",
    "    else:\n",
    "        status = dataset_import_job[\"latestDatasetImportJobRun\"][\"status\"]\n",
    "        print(\"LatestDatasetImportJobRun: {}\".format(status))\n",
    "    \n",
    "    if status == \"ACTIVE\" or status == \"CREATE FAILED\":\n",
    "        break\n",
    "        \n",
    "    time.sleep(60)"
   ]
  },
  {
   "cell_type": "markdown",
   "id": "c89e1e39-3b9b-4f46-994a-5f8eeff36ccc",
   "metadata": {},
   "source": [
    "#### 유저"
   ]
  },
  {
   "cell_type": "code",
   "execution_count": 29,
   "id": "ab679ca4-db63-44dc-8b00-837238fefab7",
   "metadata": {},
   "outputs": [
    {
     "name": "stdout",
     "output_type": "stream",
     "text": [
      "DatasetImportJob: ACTIVE\n"
     ]
    }
   ],
   "source": [
    "status = None\n",
    "max_time = time.time() + 3*60*60 # 3 hours\n",
    "while time.time() < max_time:\n",
    "    describe_dataset_import_job_response = personalize.describe_dataset_import_job(\n",
    "        datasetImportJobArn = user_dataset_import_job_arn\n",
    "    )\n",
    "    \n",
    "    dataset_import_job = describe_dataset_import_job_response[\"datasetImportJob\"]\n",
    "    if \"latestDatasetImportJobRun\" not in dataset_import_job:\n",
    "        status = dataset_import_job[\"status\"]\n",
    "        print(\"DatasetImportJob: {}\".format(status))\n",
    "    else:\n",
    "        status = dataset_import_job[\"latestDatasetImportJobRun\"][\"status\"]\n",
    "        print(\"LatestDatasetImportJobRun: {}\".format(status))\n",
    "    \n",
    "    if status == \"ACTIVE\" or status == \"CREATE FAILED\":\n",
    "        break\n",
    "        \n",
    "    time.sleep(60)"
   ]
  },
  {
   "cell_type": "markdown",
   "id": "597bc58a-9c69-4429-902f-b4df46a09c02",
   "metadata": {},
   "source": [
    "## Review\n",
    "\n",
    "위의 코드를 사용하여 데이타 세트 그룹, 데이타 세트, 데이타 세트 Import까지를 수행 하였습니다. 다음 단계는 이를 기반으로 솔류션(모델)을 생성하는 단계를 진행 합니다.\n",
    "\n",
    "\n",
    "## 다음 노트북에 대한 참고 사항\n",
    "\n",
    "다음 실습에 필요한 몇 가지 값들이 있습니다. 아래 셀을 실행하여 저장한 후, 다음 주피터 노트북에서 그대로 사용할 수 있습니다."
   ]
  },
  {
   "cell_type": "code",
   "execution_count": 31,
   "id": "5152d416-b265-4506-a3c8-94bbecc6c09b",
   "metadata": {},
   "outputs": [
    {
     "name": "stdout",
     "output_type": "stream",
     "text": [
      "Stored 'dataset_group_arn' (str)\n",
      "Stored 'interaction_dataset_arn' (str)\n",
      "Stored 'item_dataset_arn' (str)\n",
      "Stored 'user_dataset_arn' (str)\n",
      "Stored 'interaction_schema_arn' (str)\n",
      "Stored 'item_schema_arn' (str)\n",
      "Stored 'user_schema_arn' (str)\n",
      "Stored 'role_arn' (str)\n",
      "Stored 'suffix' (str)\n"
     ]
    }
   ],
   "source": [
    "%store dataset_group_arn\n",
    "%store interaction_dataset_arn\n",
    "%store item_dataset_arn\n",
    "%store user_dataset_arn\n",
    "%store interaction_schema_arn\n",
    "%store item_schema_arn\n",
    "%store user_schema_arn\n",
    "%store role_arn\n",
    "%store suffix"
   ]
  },
  {
   "cell_type": "code",
   "execution_count": null,
   "id": "0f6a7041-81dc-49aa-a85e-ce77aaaaee48",
   "metadata": {},
   "outputs": [],
   "source": []
  }
 ],
 "metadata": {
  "kernelspec": {
   "display_name": "conda_python3",
   "language": "python",
   "name": "conda_python3"
  },
  "language_info": {
   "codemirror_mode": {
    "name": "ipython",
    "version": 3
   },
   "file_extension": ".py",
   "mimetype": "text/x-python",
   "name": "python",
   "nbconvert_exporter": "python",
   "pygments_lexer": "ipython3",
   "version": "3.10.6"
  }
 },
 "nbformat": 4,
 "nbformat_minor": 5
}
