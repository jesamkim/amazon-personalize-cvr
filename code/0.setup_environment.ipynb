{
 "cells": [
  {
   "cell_type": "markdown",
   "id": "5150d5a4-d73b-48b6-a694-3eaf4453a9ad",
   "metadata": {},
   "source": [
    "# [Module 0] Python Package Installation\n",
    "\n",
    "이 워크샵은 기본 커널을 conda_python3를 사용하겠습니다.\n",
    "이 노트북은 아래 Python Package추가 설치 및 업그레이드 합니다."
   ]
  },
  {
   "cell_type": "markdown",
   "id": "dd0a4528-8dd6-4138-8fee-0e3983960fab",
   "metadata": {},
   "source": [
    "## Pandas 프로파일링 설치\n",
    "\n",
    "pandas-profiling 를 설치하기 전에 matplotlib 먼저 설치 합니다. 그렇지 않을 경우에 에러가 발생할 수 있습니다."
   ]
  },
  {
   "cell_type": "code",
   "execution_count": 1,
   "id": "0abf12b1-fac2-41cd-affe-9725fe8d21c9",
   "metadata": {},
   "outputs": [
    {
     "name": "stdout",
     "output_type": "stream",
     "text": [
      "Looking in indexes: https://pypi.org/simple, https://pip.repos.neuron.amazonaws.com\n",
      "Requirement already satisfied: matplotlib in /home/ec2-user/anaconda3/envs/python3/lib/python3.10/site-packages (3.6.1)\n",
      "Requirement already satisfied: kiwisolver>=1.0.1 in /home/ec2-user/anaconda3/envs/python3/lib/python3.10/site-packages (from matplotlib) (1.4.4)\n",
      "Requirement already satisfied: numpy>=1.19 in /home/ec2-user/anaconda3/envs/python3/lib/python3.10/site-packages (from matplotlib) (1.22.4)\n",
      "Requirement already satisfied: packaging>=20.0 in /home/ec2-user/anaconda3/envs/python3/lib/python3.10/site-packages (from matplotlib) (21.3)\n",
      "Requirement already satisfied: cycler>=0.10 in /home/ec2-user/anaconda3/envs/python3/lib/python3.10/site-packages (from matplotlib) (0.11.0)\n",
      "Requirement already satisfied: pillow>=6.2.0 in /home/ec2-user/anaconda3/envs/python3/lib/python3.10/site-packages (from matplotlib) (9.2.0)\n",
      "Requirement already satisfied: contourpy>=1.0.1 in /home/ec2-user/anaconda3/envs/python3/lib/python3.10/site-packages (from matplotlib) (1.0.6)\n",
      "Requirement already satisfied: python-dateutil>=2.7 in /home/ec2-user/anaconda3/envs/python3/lib/python3.10/site-packages (from matplotlib) (2.8.2)\n",
      "Requirement already satisfied: pyparsing>=2.2.1 in /home/ec2-user/anaconda3/envs/python3/lib/python3.10/site-packages (from matplotlib) (3.0.9)\n",
      "Requirement already satisfied: fonttools>=4.22.0 in /home/ec2-user/anaconda3/envs/python3/lib/python3.10/site-packages (from matplotlib) (4.38.0)\n",
      "Requirement already satisfied: six>=1.5 in /home/ec2-user/anaconda3/envs/python3/lib/python3.10/site-packages (from python-dateutil>=2.7->matplotlib) (1.16.0)\n"
     ]
    }
   ],
   "source": [
    "!pip install matplotlib"
   ]
  },
  {
   "cell_type": "code",
   "execution_count": 2,
   "id": "db0542bb-d1ae-48bd-af3a-d80930a87059",
   "metadata": {},
   "outputs": [
    {
     "name": "stdout",
     "output_type": "stream",
     "text": [
      "Looking in indexes: https://pypi.org/simple, https://pip.repos.neuron.amazonaws.com\n",
      "Requirement already satisfied: pandas-profiling==2.11.0 in /home/ec2-user/anaconda3/envs/python3/lib/python3.10/site-packages (2.11.0)\n",
      "Requirement already satisfied: requests>=2.24.0 in /home/ec2-user/anaconda3/envs/python3/lib/python3.10/site-packages (from pandas-profiling==2.11.0) (2.28.1)\n",
      "Requirement already satisfied: numpy>=1.16.0 in /home/ec2-user/anaconda3/envs/python3/lib/python3.10/site-packages (from pandas-profiling==2.11.0) (1.22.4)\n",
      "Requirement already satisfied: tqdm>=4.48.2 in /home/ec2-user/anaconda3/envs/python3/lib/python3.10/site-packages (from pandas-profiling==2.11.0) (4.64.1)\n",
      "Requirement already satisfied: phik>=0.10.0 in /home/ec2-user/anaconda3/envs/python3/lib/python3.10/site-packages (from pandas-profiling==2.11.0) (0.12.3)\n",
      "Requirement already satisfied: tangled-up-in-unicode>=0.0.6 in /home/ec2-user/anaconda3/envs/python3/lib/python3.10/site-packages (from pandas-profiling==2.11.0) (0.2.0)\n",
      "Requirement already satisfied: visions[type_image_path]==0.6.0 in /home/ec2-user/anaconda3/envs/python3/lib/python3.10/site-packages (from pandas-profiling==2.11.0) (0.6.0)\n",
      "Requirement already satisfied: htmlmin>=0.1.12 in /home/ec2-user/anaconda3/envs/python3/lib/python3.10/site-packages (from pandas-profiling==2.11.0) (0.1.12)\n",
      "Requirement already satisfied: ipywidgets>=7.5.1 in /home/ec2-user/anaconda3/envs/python3/lib/python3.10/site-packages (from pandas-profiling==2.11.0) (8.0.2)\n",
      "Requirement already satisfied: attrs>=19.3.0 in /home/ec2-user/anaconda3/envs/python3/lib/python3.10/site-packages (from pandas-profiling==2.11.0) (22.1.0)\n",
      "Requirement already satisfied: seaborn>=0.10.1 in /home/ec2-user/anaconda3/envs/python3/lib/python3.10/site-packages (from pandas-profiling==2.11.0) (0.12.0)\n",
      "Requirement already satisfied: scipy>=1.4.1 in /home/ec2-user/anaconda3/envs/python3/lib/python3.10/site-packages (from pandas-profiling==2.11.0) (1.9.3)\n",
      "Requirement already satisfied: pandas!=1.0.0,!=1.0.1,!=1.0.2,!=1.1.0,>=0.25.3 in /home/ec2-user/anaconda3/envs/python3/lib/python3.10/site-packages (from pandas-profiling==2.11.0) (1.5.1)\n",
      "Requirement already satisfied: matplotlib>=3.2.0 in /home/ec2-user/anaconda3/envs/python3/lib/python3.10/site-packages (from pandas-profiling==2.11.0) (3.6.1)\n",
      "Requirement already satisfied: jinja2>=2.11.1 in /home/ec2-user/anaconda3/envs/python3/lib/python3.10/site-packages (from pandas-profiling==2.11.0) (3.1.2)\n",
      "Requirement already satisfied: confuse>=1.0.0 in /home/ec2-user/anaconda3/envs/python3/lib/python3.10/site-packages (from pandas-profiling==2.11.0) (2.0.0)\n",
      "Requirement already satisfied: missingno>=0.4.2 in /home/ec2-user/anaconda3/envs/python3/lib/python3.10/site-packages (from pandas-profiling==2.11.0) (0.5.1)\n",
      "Requirement already satisfied: joblib in /home/ec2-user/anaconda3/envs/python3/lib/python3.10/site-packages (from pandas-profiling==2.11.0) (1.2.0)\n",
      "Requirement already satisfied: networkx>=2.4 in /home/ec2-user/anaconda3/envs/python3/lib/python3.10/site-packages (from visions[type_image_path]==0.6.0->pandas-profiling==2.11.0) (2.8.7)\n",
      "Requirement already satisfied: imagehash in /home/ec2-user/anaconda3/envs/python3/lib/python3.10/site-packages (from visions[type_image_path]==0.6.0->pandas-profiling==2.11.0) (4.3.1)\n",
      "Requirement already satisfied: Pillow in /home/ec2-user/anaconda3/envs/python3/lib/python3.10/site-packages (from visions[type_image_path]==0.6.0->pandas-profiling==2.11.0) (9.2.0)\n",
      "Requirement already satisfied: pyyaml in /home/ec2-user/anaconda3/envs/python3/lib/python3.10/site-packages (from confuse>=1.0.0->pandas-profiling==2.11.0) (5.4.1)\n",
      "Requirement already satisfied: jupyterlab-widgets~=3.0 in /home/ec2-user/anaconda3/envs/python3/lib/python3.10/site-packages (from ipywidgets>=7.5.1->pandas-profiling==2.11.0) (3.0.3)\n",
      "Requirement already satisfied: ipython>=6.1.0 in /home/ec2-user/anaconda3/envs/python3/lib/python3.10/site-packages (from ipywidgets>=7.5.1->pandas-profiling==2.11.0) (7.33.0)\n",
      "Requirement already satisfied: ipykernel>=4.5.1 in /home/ec2-user/anaconda3/envs/python3/lib/python3.10/site-packages (from ipywidgets>=7.5.1->pandas-profiling==2.11.0) (6.16.2)\n",
      "Requirement already satisfied: widgetsnbextension~=4.0 in /home/ec2-user/anaconda3/envs/python3/lib/python3.10/site-packages (from ipywidgets>=7.5.1->pandas-profiling==2.11.0) (4.0.3)\n",
      "Requirement already satisfied: traitlets>=4.3.1 in /home/ec2-user/anaconda3/envs/python3/lib/python3.10/site-packages (from ipywidgets>=7.5.1->pandas-profiling==2.11.0) (5.5.0)\n",
      "Requirement already satisfied: MarkupSafe>=2.0 in /home/ec2-user/anaconda3/envs/python3/lib/python3.10/site-packages (from jinja2>=2.11.1->pandas-profiling==2.11.0) (2.1.1)\n",
      "Requirement already satisfied: cycler>=0.10 in /home/ec2-user/anaconda3/envs/python3/lib/python3.10/site-packages (from matplotlib>=3.2.0->pandas-profiling==2.11.0) (0.11.0)\n",
      "Requirement already satisfied: packaging>=20.0 in /home/ec2-user/anaconda3/envs/python3/lib/python3.10/site-packages (from matplotlib>=3.2.0->pandas-profiling==2.11.0) (21.3)\n",
      "Requirement already satisfied: contourpy>=1.0.1 in /home/ec2-user/anaconda3/envs/python3/lib/python3.10/site-packages (from matplotlib>=3.2.0->pandas-profiling==2.11.0) (1.0.6)\n",
      "Requirement already satisfied: fonttools>=4.22.0 in /home/ec2-user/anaconda3/envs/python3/lib/python3.10/site-packages (from matplotlib>=3.2.0->pandas-profiling==2.11.0) (4.38.0)\n",
      "Requirement already satisfied: python-dateutil>=2.7 in /home/ec2-user/anaconda3/envs/python3/lib/python3.10/site-packages (from matplotlib>=3.2.0->pandas-profiling==2.11.0) (2.8.2)\n",
      "Requirement already satisfied: pyparsing>=2.2.1 in /home/ec2-user/anaconda3/envs/python3/lib/python3.10/site-packages (from matplotlib>=3.2.0->pandas-profiling==2.11.0) (3.0.9)\n",
      "Requirement already satisfied: kiwisolver>=1.0.1 in /home/ec2-user/anaconda3/envs/python3/lib/python3.10/site-packages (from matplotlib>=3.2.0->pandas-profiling==2.11.0) (1.4.4)\n",
      "Requirement already satisfied: pytz>=2020.1 in /home/ec2-user/anaconda3/envs/python3/lib/python3.10/site-packages (from pandas!=1.0.0,!=1.0.1,!=1.0.2,!=1.1.0,>=0.25.3->pandas-profiling==2.11.0) (2022.5)\n",
      "Requirement already satisfied: idna<4,>=2.5 in /home/ec2-user/anaconda3/envs/python3/lib/python3.10/site-packages (from requests>=2.24.0->pandas-profiling==2.11.0) (3.4)\n",
      "Requirement already satisfied: certifi>=2017.4.17 in /home/ec2-user/anaconda3/envs/python3/lib/python3.10/site-packages (from requests>=2.24.0->pandas-profiling==2.11.0) (2022.9.24)\n",
      "Requirement already satisfied: urllib3<1.27,>=1.21.1 in /home/ec2-user/anaconda3/envs/python3/lib/python3.10/site-packages (from requests>=2.24.0->pandas-profiling==2.11.0) (1.26.8)\n",
      "Requirement already satisfied: charset-normalizer<3,>=2 in /home/ec2-user/anaconda3/envs/python3/lib/python3.10/site-packages (from requests>=2.24.0->pandas-profiling==2.11.0) (2.1.1)\n",
      "Requirement already satisfied: tornado>=6.1 in /home/ec2-user/anaconda3/envs/python3/lib/python3.10/site-packages (from ipykernel>=4.5.1->ipywidgets>=7.5.1->pandas-profiling==2.11.0) (6.1)\n",
      "Requirement already satisfied: debugpy>=1.0 in /home/ec2-user/anaconda3/envs/python3/lib/python3.10/site-packages (from ipykernel>=4.5.1->ipywidgets>=7.5.1->pandas-profiling==2.11.0) (1.6.3)\n",
      "Requirement already satisfied: psutil in /home/ec2-user/anaconda3/envs/python3/lib/python3.10/site-packages (from ipykernel>=4.5.1->ipywidgets>=7.5.1->pandas-profiling==2.11.0) (5.9.3)\n",
      "Requirement already satisfied: nest-asyncio in /home/ec2-user/anaconda3/envs/python3/lib/python3.10/site-packages (from ipykernel>=4.5.1->ipywidgets>=7.5.1->pandas-profiling==2.11.0) (1.5.6)\n",
      "Requirement already satisfied: matplotlib-inline>=0.1 in /home/ec2-user/anaconda3/envs/python3/lib/python3.10/site-packages (from ipykernel>=4.5.1->ipywidgets>=7.5.1->pandas-profiling==2.11.0) (0.1.6)\n",
      "Requirement already satisfied: jupyter-client>=6.1.12 in /home/ec2-user/anaconda3/envs/python3/lib/python3.10/site-packages (from ipykernel>=4.5.1->ipywidgets>=7.5.1->pandas-profiling==2.11.0) (7.3.4)\n",
      "Requirement already satisfied: pyzmq>=17 in /home/ec2-user/anaconda3/envs/python3/lib/python3.10/site-packages (from ipykernel>=4.5.1->ipywidgets>=7.5.1->pandas-profiling==2.11.0) (24.0.1)\n",
      "Requirement already satisfied: decorator in /home/ec2-user/anaconda3/envs/python3/lib/python3.10/site-packages (from ipython>=6.1.0->ipywidgets>=7.5.1->pandas-profiling==2.11.0) (5.1.1)\n",
      "Requirement already satisfied: backcall in /home/ec2-user/anaconda3/envs/python3/lib/python3.10/site-packages (from ipython>=6.1.0->ipywidgets>=7.5.1->pandas-profiling==2.11.0) (0.2.0)\n",
      "Requirement already satisfied: setuptools>=18.5 in /home/ec2-user/anaconda3/envs/python3/lib/python3.10/site-packages (from ipython>=6.1.0->ipywidgets>=7.5.1->pandas-profiling==2.11.0) (65.5.0)\n",
      "Requirement already satisfied: pexpect>4.3 in /home/ec2-user/anaconda3/envs/python3/lib/python3.10/site-packages (from ipython>=6.1.0->ipywidgets>=7.5.1->pandas-profiling==2.11.0) (4.8.0)\n",
      "Requirement already satisfied: prompt-toolkit!=3.0.0,!=3.0.1,<3.1.0,>=2.0.0 in /home/ec2-user/anaconda3/envs/python3/lib/python3.10/site-packages (from ipython>=6.1.0->ipywidgets>=7.5.1->pandas-profiling==2.11.0) (3.0.31)\n",
      "Requirement already satisfied: jedi>=0.16 in /home/ec2-user/anaconda3/envs/python3/lib/python3.10/site-packages (from ipython>=6.1.0->ipywidgets>=7.5.1->pandas-profiling==2.11.0) (0.18.1)\n",
      "Requirement already satisfied: pickleshare in /home/ec2-user/anaconda3/envs/python3/lib/python3.10/site-packages (from ipython>=6.1.0->ipywidgets>=7.5.1->pandas-profiling==2.11.0) (0.7.5)\n",
      "Requirement already satisfied: pygments in /home/ec2-user/anaconda3/envs/python3/lib/python3.10/site-packages (from ipython>=6.1.0->ipywidgets>=7.5.1->pandas-profiling==2.11.0) (2.13.0)\n",
      "Requirement already satisfied: six>=1.5 in /home/ec2-user/anaconda3/envs/python3/lib/python3.10/site-packages (from python-dateutil>=2.7->matplotlib>=3.2.0->pandas-profiling==2.11.0) (1.16.0)\n",
      "Requirement already satisfied: PyWavelets in /home/ec2-user/anaconda3/envs/python3/lib/python3.10/site-packages (from imagehash->visions[type_image_path]==0.6.0->pandas-profiling==2.11.0) (1.3.0)\n",
      "Requirement already satisfied: parso<0.9.0,>=0.8.0 in /home/ec2-user/anaconda3/envs/python3/lib/python3.10/site-packages (from jedi>=0.16->ipython>=6.1.0->ipywidgets>=7.5.1->pandas-profiling==2.11.0) (0.8.3)\n",
      "Requirement already satisfied: jupyter-core>=4.9.2 in /home/ec2-user/anaconda3/envs/python3/lib/python3.10/site-packages (from jupyter-client>=6.1.12->ipykernel>=4.5.1->ipywidgets>=7.5.1->pandas-profiling==2.11.0) (4.11.1)\n",
      "Requirement already satisfied: entrypoints in /home/ec2-user/anaconda3/envs/python3/lib/python3.10/site-packages (from jupyter-client>=6.1.12->ipykernel>=4.5.1->ipywidgets>=7.5.1->pandas-profiling==2.11.0) (0.4)\n",
      "Requirement already satisfied: ptyprocess>=0.5 in /home/ec2-user/anaconda3/envs/python3/lib/python3.10/site-packages (from pexpect>4.3->ipython>=6.1.0->ipywidgets>=7.5.1->pandas-profiling==2.11.0) (0.7.0)\n",
      "Requirement already satisfied: wcwidth in /home/ec2-user/anaconda3/envs/python3/lib/python3.10/site-packages (from prompt-toolkit!=3.0.0,!=3.0.1,<3.1.0,>=2.0.0->ipython>=6.1.0->ipywidgets>=7.5.1->pandas-profiling==2.11.0) (0.2.5)\n"
     ]
    }
   ],
   "source": [
    "!pip install pandas-profiling==2.11.0"
   ]
  },
  {
   "cell_type": "markdown",
   "id": "80fd1a70-a370-4fd0-983f-4927bd8b6429",
   "metadata": {},
   "source": [
    "## boto3 업그레이드"
   ]
  },
  {
   "cell_type": "code",
   "execution_count": 3,
   "id": "d6079365-d3a0-4e3f-a73b-20e3752c6ead",
   "metadata": {},
   "outputs": [
    {
     "name": "stdout",
     "output_type": "stream",
     "text": [
      "Looking in indexes: https://pypi.org/simple, https://pip.repos.neuron.amazonaws.com\n",
      "Requirement already satisfied: boto3 in /home/ec2-user/anaconda3/envs/python3/lib/python3.10/site-packages (1.26.65)\n",
      "Collecting boto3\n",
      "  Downloading boto3-1.26.80-py3-none-any.whl (132 kB)\n",
      "\u001b[2K     \u001b[90m━━━━━━━━━━━━━━━━━━━━━━━━━━━━━━━━━━━━━━\u001b[0m \u001b[32m132.7/132.7 kB\u001b[0m \u001b[31m20.7 MB/s\u001b[0m eta \u001b[36m0:00:00\u001b[0m\n",
      "\u001b[?25hRequirement already satisfied: jmespath<2.0.0,>=0.7.1 in /home/ec2-user/anaconda3/envs/python3/lib/python3.10/site-packages (from boto3) (0.10.0)\n",
      "Requirement already satisfied: s3transfer<0.7.0,>=0.6.0 in /home/ec2-user/anaconda3/envs/python3/lib/python3.10/site-packages (from boto3) (0.6.0)\n",
      "Collecting botocore<1.30.0,>=1.29.80\n",
      "  Downloading botocore-1.29.80-py3-none-any.whl (10.5 MB)\n",
      "\u001b[2K     \u001b[90m━━━━━━━━━━━━━━━━━━━━━━━━━━━━━━━━━━━━━━━\u001b[0m \u001b[32m10.5/10.5 MB\u001b[0m \u001b[31m139.6 MB/s\u001b[0m eta \u001b[36m0:00:00\u001b[0m00:01\u001b[0m00:01\u001b[0m\n",
      "\u001b[?25hRequirement already satisfied: python-dateutil<3.0.0,>=2.1 in /home/ec2-user/anaconda3/envs/python3/lib/python3.10/site-packages (from botocore<1.30.0,>=1.29.80->boto3) (2.8.2)\n",
      "Requirement already satisfied: urllib3<1.27,>=1.25.4 in /home/ec2-user/anaconda3/envs/python3/lib/python3.10/site-packages (from botocore<1.30.0,>=1.29.80->boto3) (1.26.8)\n",
      "Requirement already satisfied: six>=1.5 in /home/ec2-user/anaconda3/envs/python3/lib/python3.10/site-packages (from python-dateutil<3.0.0,>=2.1->botocore<1.30.0,>=1.29.80->boto3) (1.16.0)\n",
      "Installing collected packages: botocore, boto3\n",
      "  Attempting uninstall: botocore\n",
      "    Found existing installation: botocore 1.29.65\n",
      "    Uninstalling botocore-1.29.65:\n",
      "      Successfully uninstalled botocore-1.29.65\n",
      "  Attempting uninstall: boto3\n",
      "    Found existing installation: boto3 1.26.65\n",
      "    Uninstalling boto3-1.26.65:\n",
      "      Successfully uninstalled boto3-1.26.65\n",
      "\u001b[31mERROR: pip's dependency resolver does not currently take into account all the packages that are installed. This behaviour is the source of the following dependency conflicts.\n",
      "awscli 1.27.44 requires botocore==1.29.44, but you have botocore 1.29.80 which is incompatible.\n",
      "aiobotocore 2.0.1 requires botocore<1.22.9,>=1.22.8, but you have botocore 1.29.80 which is incompatible.\u001b[0m\u001b[31m\n",
      "\u001b[0mSuccessfully installed boto3-1.26.80 botocore-1.29.80\n"
     ]
    }
   ],
   "source": [
    "!pip install boto3 --upgrade"
   ]
  },
  {
   "cell_type": "code",
   "execution_count": null,
   "id": "ce3eb87c-577d-4b61-9733-3e65ae927fe7",
   "metadata": {},
   "outputs": [],
   "source": []
  }
 ],
 "metadata": {
  "kernelspec": {
   "display_name": "conda_python3",
   "language": "python",
   "name": "conda_python3"
  },
  "language_info": {
   "codemirror_mode": {
    "name": "ipython",
    "version": 3
   },
   "file_extension": ".py",
   "mimetype": "text/x-python",
   "name": "python",
   "nbconvert_exporter": "python",
   "pygments_lexer": "ipython3",
   "version": "3.10.6"
  }
 },
 "nbformat": 4,
 "nbformat_minor": 5
}
