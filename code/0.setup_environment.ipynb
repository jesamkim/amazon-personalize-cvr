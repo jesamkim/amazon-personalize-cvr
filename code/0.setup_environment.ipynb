{
 "cells": [
  {
   "cell_type": "markdown",
   "id": "5150d5a4-d73b-48b6-a694-3eaf4453a9ad",
   "metadata": {},
   "source": [
    "# [Module 0] Python Package Installation\n",
    "\n",
    "이 워크샵은 기본 커널을 conda_python3를 사용하겠습니다.\n",
    "이 노트북은 아래 Python Package추가 설치 및 업그레이드 합니다."
   ]
  },
  {
   "cell_type": "markdown",
   "id": "dd0a4528-8dd6-4138-8fee-0e3983960fab",
   "metadata": {},
   "source": [
    "## Pandas 프로파일링 설치\n",
    "\n",
    "pandas-profiling 를 설치하기 전에 matplotlib 먼저 설치 합니다. 그렇지 않을 경우에 에러가 발생할 수 있습니다."
   ]
  },
  {
   "cell_type": "code",
   "execution_count": null,
   "id": "0abf12b1-fac2-41cd-affe-9725fe8d21c9",
   "metadata": {},
   "outputs": [],
   "source": [
    "!pip install matplotlib"
   ]
  },
  {
   "cell_type": "code",
   "execution_count": null,
   "id": "db0542bb-d1ae-48bd-af3a-d80930a87059",
   "metadata": {},
   "outputs": [],
   "source": [
    "!pip install pandas-profiling==2.11.0"
   ]
  },
  {
   "cell_type": "markdown",
   "id": "80fd1a70-a370-4fd0-983f-4927bd8b6429",
   "metadata": {},
   "source": [
    "## boto3 업그레이드"
   ]
  },
  {
   "cell_type": "code",
   "execution_count": null,
   "id": "d6079365-d3a0-4e3f-a73b-20e3752c6ead",
   "metadata": {},
   "outputs": [],
   "source": [
    "!pip install boto3 --upgrade"
   ]
  },
  {
   "cell_type": "code",
   "execution_count": null,
   "id": "ce3eb87c-577d-4b61-9733-3e65ae927fe7",
   "metadata": {},
   "outputs": [],
   "source": []
  }
 ],
 "metadata": {
  "kernelspec": {
   "display_name": "conda_python3",
   "language": "python",
   "name": "conda_python3"
  },
  "language_info": {
   "codemirror_mode": {
    "name": "ipython",
    "version": 3
   },
   "file_extension": ".py",
   "mimetype": "text/x-python",
   "name": "python",
   "nbconvert_exporter": "python",
   "pygments_lexer": "ipython3",
   "version": "3.10.6"
  }
 },
 "nbformat": 4,
 "nbformat_minor": 5
}
