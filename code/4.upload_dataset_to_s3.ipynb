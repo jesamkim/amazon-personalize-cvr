{
 "cells": [
  {
   "cell_type": "markdown",
   "id": "e49172a5-27bd-4aae-9dc8-0d9a881f7328",
   "metadata": {},
   "source": [
    "# [Module 4] Interactions, Items, Users 데이터셋을 S3에 업로드\n",
    "\n",
    "이 워크샵은 기본 커널을 conda_python3를 사용합니다."
   ]
  },
  {
   "cell_type": "markdown",
   "id": "0564d848-e7c3-4cdb-ab30-f16590f4f4e4",
   "metadata": {},
   "source": [
    "## 0. 환경 설정"
   ]
  },
  {
   "cell_type": "markdown",
   "id": "1477d03c-cd7b-403c-83ce-f7d83d63702d",
   "metadata": {},
   "source": [
    "#### Library Import \n",
    "\n",
    "파이썬에는 광범위한 라이브러리 모음이 포함되어 있으며, 본 LAB을 위해서 핵심 Data Scientist용 Tool 인 boto3 (AWS SDK) 및 Pandas/Numpy와 같은 라이브러리를 가져와야 합니다."
   ]
  },
  {
   "cell_type": "code",
   "execution_count": 1,
   "id": "9f78b5f0-457d-4bd0-b045-352f247f7e1b",
   "metadata": {},
   "outputs": [],
   "source": [
    "import boto3\n",
    "import json\n",
    "import numpy as np\n",
    "import pandas as pd\n",
    "import time\n",
    "from datetime import datetime\n",
    "\n",
    "import matplotlib.pyplot as plt"
   ]
  },
  {
   "cell_type": "markdown",
   "id": "c4214366-f6da-496a-9f04-bb1335182ab8",
   "metadata": {},
   "source": [
    "변수 로딩"
   ]
  },
  {
   "cell_type": "code",
   "execution_count": 2,
   "id": "7380d4b0-930d-41e2-ab2c-daf6c99a2d65",
   "metadata": {},
   "outputs": [],
   "source": [
    "%store -r"
   ]
  },
  {
   "cell_type": "markdown",
   "id": "ca54ea72-cf23-4964-9d03-e239e7e79e1f",
   "metadata": {},
   "source": [
    "## 1. 데이터셋 확인"
   ]
  },
  {
   "cell_type": "code",
   "execution_count": 3,
   "id": "ad238705-ba0f-489a-9a13-77056a8586aa",
   "metadata": {},
   "outputs": [
    {
     "data": {
      "text/html": [
       "<div>\n",
       "<style scoped>\n",
       "    .dataframe tbody tr th:only-of-type {\n",
       "        vertical-align: middle;\n",
       "    }\n",
       "\n",
       "    .dataframe tbody tr th {\n",
       "        vertical-align: top;\n",
       "    }\n",
       "\n",
       "    .dataframe thead th {\n",
       "        text-align: right;\n",
       "    }\n",
       "</style>\n",
       "<table border=\"1\" class=\"dataframe\">\n",
       "  <thead>\n",
       "    <tr style=\"text-align: right;\">\n",
       "      <th></th>\n",
       "      <th>ITEM_ID</th>\n",
       "      <th>USER_ID</th>\n",
       "      <th>EVENT_TYPE</th>\n",
       "      <th>TIMESTAMP</th>\n",
       "    </tr>\n",
       "  </thead>\n",
       "  <tbody>\n",
       "    <tr>\n",
       "      <th>0</th>\n",
       "      <td>26bb732f-9159-432f-91ef-bad14fedd298</td>\n",
       "      <td>3156</td>\n",
       "      <td>View</td>\n",
       "      <td>1591803788</td>\n",
       "    </tr>\n",
       "    <tr>\n",
       "      <th>1</th>\n",
       "      <td>26bb732f-9159-432f-91ef-bad14fedd298</td>\n",
       "      <td>3156</td>\n",
       "      <td>View</td>\n",
       "      <td>1591803788</td>\n",
       "    </tr>\n",
       "    <tr>\n",
       "      <th>2</th>\n",
       "      <td>dc073623-4b95-47d9-93cb-0171c20baa04</td>\n",
       "      <td>332</td>\n",
       "      <td>View</td>\n",
       "      <td>1591803812</td>\n",
       "    </tr>\n",
       "    <tr>\n",
       "      <th>3</th>\n",
       "      <td>dc073623-4b95-47d9-93cb-0171c20baa04</td>\n",
       "      <td>332</td>\n",
       "      <td>View</td>\n",
       "      <td>1591803812</td>\n",
       "    </tr>\n",
       "    <tr>\n",
       "      <th>4</th>\n",
       "      <td>31efcfea-47d6-43f3-97f7-2704a5397e22</td>\n",
       "      <td>3981</td>\n",
       "      <td>View</td>\n",
       "      <td>1591803830</td>\n",
       "    </tr>\n",
       "    <tr>\n",
       "      <th>...</th>\n",
       "      <td>...</td>\n",
       "      <td>...</td>\n",
       "      <td>...</td>\n",
       "      <td>...</td>\n",
       "    </tr>\n",
       "    <tr>\n",
       "      <th>674996</th>\n",
       "      <td>94a0ad41-8b19-4ecb-b0d7-33704e2d4421</td>\n",
       "      <td>4046</td>\n",
       "      <td>View</td>\n",
       "      <td>1598204625</td>\n",
       "    </tr>\n",
       "    <tr>\n",
       "      <th>674997</th>\n",
       "      <td>f9c470b0-152b-4776-893a-67ffc4064675</td>\n",
       "      <td>2627</td>\n",
       "      <td>View</td>\n",
       "      <td>1598204657</td>\n",
       "    </tr>\n",
       "    <tr>\n",
       "      <th>674998</th>\n",
       "      <td>1def0093-96b2-4cc4-a022-071941f75b92</td>\n",
       "      <td>3538</td>\n",
       "      <td>View</td>\n",
       "      <td>1598204664</td>\n",
       "    </tr>\n",
       "    <tr>\n",
       "      <th>674999</th>\n",
       "      <td>9bc87696-e9bd-4241-86b0-234e054a607b</td>\n",
       "      <td>5165</td>\n",
       "      <td>View</td>\n",
       "      <td>1598204678</td>\n",
       "    </tr>\n",
       "    <tr>\n",
       "      <th>675003</th>\n",
       "      <td>9bc87696-e9bd-4241-86b0-234e054a607b</td>\n",
       "      <td>5165</td>\n",
       "      <td>Purchase</td>\n",
       "      <td>1598204689</td>\n",
       "    </tr>\n",
       "  </tbody>\n",
       "</table>\n",
       "<p>587719 rows × 4 columns</p>\n",
       "</div>"
      ],
      "text/plain": [
       "                                     ITEM_ID USER_ID EVENT_TYPE   TIMESTAMP\n",
       "0       26bb732f-9159-432f-91ef-bad14fedd298    3156       View  1591803788\n",
       "1       26bb732f-9159-432f-91ef-bad14fedd298    3156       View  1591803788\n",
       "2       dc073623-4b95-47d9-93cb-0171c20baa04     332       View  1591803812\n",
       "3       dc073623-4b95-47d9-93cb-0171c20baa04     332       View  1591803812\n",
       "4       31efcfea-47d6-43f3-97f7-2704a5397e22    3981       View  1591803830\n",
       "...                                      ...     ...        ...         ...\n",
       "674996  94a0ad41-8b19-4ecb-b0d7-33704e2d4421    4046       View  1598204625\n",
       "674997  f9c470b0-152b-4776-893a-67ffc4064675    2627       View  1598204657\n",
       "674998  1def0093-96b2-4cc4-a022-071941f75b92    3538       View  1598204664\n",
       "674999  9bc87696-e9bd-4241-86b0-234e054a607b    5165       View  1598204678\n",
       "675003  9bc87696-e9bd-4241-86b0-234e054a607b    5165   Purchase  1598204689\n",
       "\n",
       "[587719 rows x 4 columns]"
      ]
     },
     "execution_count": 3,
     "metadata": {},
     "output_type": "execute_result"
    }
   ],
   "source": [
    "interactions_df"
   ]
  },
  {
   "cell_type": "code",
   "execution_count": 4,
   "id": "7c4f68fd-202f-43b0-a18d-af2dda38ed93",
   "metadata": {},
   "outputs": [
    {
     "data": {
      "text/html": [
       "<div>\n",
       "<style scoped>\n",
       "    .dataframe tbody tr th:only-of-type {\n",
       "        vertical-align: middle;\n",
       "    }\n",
       "\n",
       "    .dataframe tbody tr th {\n",
       "        vertical-align: top;\n",
       "    }\n",
       "\n",
       "    .dataframe thead th {\n",
       "        text-align: right;\n",
       "    }\n",
       "</style>\n",
       "<table border=\"1\" class=\"dataframe\">\n",
       "  <thead>\n",
       "    <tr style=\"text-align: right;\">\n",
       "      <th></th>\n",
       "      <th>ITEM_ID</th>\n",
       "      <th>CVR</th>\n",
       "      <th>NAME</th>\n",
       "      <th>CATEGORY_L1</th>\n",
       "      <th>STYLE</th>\n",
       "      <th>PRODUCT_DESCRIPTION</th>\n",
       "      <th>PRICE</th>\n",
       "    </tr>\n",
       "  </thead>\n",
       "  <tbody>\n",
       "    <tr>\n",
       "      <th>0</th>\n",
       "      <td>00096972-5f6b-44df-917b-f7d21ae5644c</td>\n",
       "      <td>0.00041</td>\n",
       "      <td>Pink Shirt</td>\n",
       "      <td>apparel</td>\n",
       "      <td>shirt</td>\n",
       "      <td>Swanky dress for women</td>\n",
       "      <td>225.99</td>\n",
       "    </tr>\n",
       "    <tr>\n",
       "      <th>1</th>\n",
       "      <td>0016fde3-0910-4cc1-8ef6-90e15f271073</td>\n",
       "      <td>0.00014</td>\n",
       "      <td>Farmed Salmon For Sushi</td>\n",
       "      <td>groceries</td>\n",
       "      <td>seafood</td>\n",
       "      <td>Flavorful farmed salmon, always sourced sustai...</td>\n",
       "      <td>24.99</td>\n",
       "    </tr>\n",
       "    <tr>\n",
       "      <th>2</th>\n",
       "      <td>00225258-dbfb-4103-a573-007386571a49</td>\n",
       "      <td>0.00068</td>\n",
       "      <td>Easter Decorative Egg</td>\n",
       "      <td>seasonal</td>\n",
       "      <td>easter</td>\n",
       "      <td>A must-have for April</td>\n",
       "      <td>16.99</td>\n",
       "    </tr>\n",
       "    <tr>\n",
       "      <th>3</th>\n",
       "      <td>003e4953-d6cb-400c-90f6-9b0216b4603e</td>\n",
       "      <td>0.00036</td>\n",
       "      <td>Drought-Resistant Indoor Plant</td>\n",
       "      <td>floral</td>\n",
       "      <td>plant</td>\n",
       "      <td>Drought-resistant indoor plant grown sustainab...</td>\n",
       "      <td>76.99</td>\n",
       "    </tr>\n",
       "    <tr>\n",
       "      <th>4</th>\n",
       "      <td>004112e9-dca1-4402-ae6d-74e2b80b8c05</td>\n",
       "      <td>0.00035</td>\n",
       "      <td>Mango Coat</td>\n",
       "      <td>apparel</td>\n",
       "      <td>jacket</td>\n",
       "      <td>Mango coat for men about town</td>\n",
       "      <td>184.99</td>\n",
       "    </tr>\n",
       "    <tr>\n",
       "      <th>...</th>\n",
       "      <td>...</td>\n",
       "      <td>...</td>\n",
       "      <td>...</td>\n",
       "      <td>...</td>\n",
       "      <td>...</td>\n",
       "      <td>...</td>\n",
       "      <td>...</td>\n",
       "    </tr>\n",
       "    <tr>\n",
       "      <th>2444</th>\n",
       "      <td>ff973006-27da-45dd-899c-8441c5eaebe0</td>\n",
       "      <td>0.00059</td>\n",
       "      <td>Groovy Glasses</td>\n",
       "      <td>accessories</td>\n",
       "      <td>glasses</td>\n",
       "      <td>These groovy glasses for men are unparalleled</td>\n",
       "      <td>140.99</td>\n",
       "    </tr>\n",
       "    <tr>\n",
       "      <th>2445</th>\n",
       "      <td>ff9c5ec9-69d0-4338-b4b2-96d48b2e91aa</td>\n",
       "      <td>0.00031</td>\n",
       "      <td>Black Shirt</td>\n",
       "      <td>apparel</td>\n",
       "      <td>shirt</td>\n",
       "      <td>Black casual shirt for men</td>\n",
       "      <td>226.99</td>\n",
       "    </tr>\n",
       "    <tr>\n",
       "      <th>2446</th>\n",
       "      <td>ffbf120a-0b8e-41dd-bbe9-5b2a87b0c8c5</td>\n",
       "      <td>0.00035</td>\n",
       "      <td>Bread</td>\n",
       "      <td>groceries</td>\n",
       "      <td>bakery</td>\n",
       "      <td>Bread made fresh daily in our kitchens</td>\n",
       "      <td>7.99</td>\n",
       "    </tr>\n",
       "    <tr>\n",
       "      <th>2447</th>\n",
       "      <td>ffcc4cc8-a094-49ea-b9f2-8bf056261868</td>\n",
       "      <td>0.00017</td>\n",
       "      <td>Indoor Plant</td>\n",
       "      <td>floral</td>\n",
       "      <td>plant</td>\n",
       "      <td>Indoor plant delivered fresh and vibrant from ...</td>\n",
       "      <td>129.99</td>\n",
       "    </tr>\n",
       "    <tr>\n",
       "      <th>2448</th>\n",
       "      <td>ffdb2dc7-ea75-4197-9826-e81ccd42f578</td>\n",
       "      <td>0.00073</td>\n",
       "      <td>Reed Platform Heels</td>\n",
       "      <td>footwear</td>\n",
       "      <td>formal</td>\n",
       "      <td>Pair of red platform heels for women</td>\n",
       "      <td>9.99</td>\n",
       "    </tr>\n",
       "  </tbody>\n",
       "</table>\n",
       "<p>2449 rows × 7 columns</p>\n",
       "</div>"
      ],
      "text/plain": [
       "                                   ITEM_ID      CVR  \\\n",
       "0     00096972-5f6b-44df-917b-f7d21ae5644c  0.00041   \n",
       "1     0016fde3-0910-4cc1-8ef6-90e15f271073  0.00014   \n",
       "2     00225258-dbfb-4103-a573-007386571a49  0.00068   \n",
       "3     003e4953-d6cb-400c-90f6-9b0216b4603e  0.00036   \n",
       "4     004112e9-dca1-4402-ae6d-74e2b80b8c05  0.00035   \n",
       "...                                    ...      ...   \n",
       "2444  ff973006-27da-45dd-899c-8441c5eaebe0  0.00059   \n",
       "2445  ff9c5ec9-69d0-4338-b4b2-96d48b2e91aa  0.00031   \n",
       "2446  ffbf120a-0b8e-41dd-bbe9-5b2a87b0c8c5  0.00035   \n",
       "2447  ffcc4cc8-a094-49ea-b9f2-8bf056261868  0.00017   \n",
       "2448  ffdb2dc7-ea75-4197-9826-e81ccd42f578  0.00073   \n",
       "\n",
       "                                NAME  CATEGORY_L1    STYLE  \\\n",
       "0                         Pink Shirt      apparel    shirt   \n",
       "1            Farmed Salmon For Sushi    groceries  seafood   \n",
       "2              Easter Decorative Egg     seasonal   easter   \n",
       "3     Drought-Resistant Indoor Plant       floral    plant   \n",
       "4                         Mango Coat      apparel   jacket   \n",
       "...                              ...          ...      ...   \n",
       "2444                  Groovy Glasses  accessories  glasses   \n",
       "2445                     Black Shirt      apparel    shirt   \n",
       "2446                           Bread    groceries   bakery   \n",
       "2447                    Indoor Plant       floral    plant   \n",
       "2448             Reed Platform Heels     footwear   formal   \n",
       "\n",
       "                                    PRODUCT_DESCRIPTION   PRICE  \n",
       "0                                Swanky dress for women  225.99  \n",
       "1     Flavorful farmed salmon, always sourced sustai...   24.99  \n",
       "2                                 A must-have for April   16.99  \n",
       "3     Drought-resistant indoor plant grown sustainab...   76.99  \n",
       "4                         Mango coat for men about town  184.99  \n",
       "...                                                 ...     ...  \n",
       "2444      These groovy glasses for men are unparalleled  140.99  \n",
       "2445                         Black casual shirt for men  226.99  \n",
       "2446             Bread made fresh daily in our kitchens    7.99  \n",
       "2447  Indoor plant delivered fresh and vibrant from ...  129.99  \n",
       "2448               Pair of red platform heels for women    9.99  \n",
       "\n",
       "[2449 rows x 7 columns]"
      ]
     },
     "execution_count": 4,
     "metadata": {},
     "output_type": "execute_result"
    }
   ],
   "source": [
    "items_df"
   ]
  },
  {
   "cell_type": "code",
   "execution_count": 5,
   "id": "a6b963e9-a045-4968-8943-15b665e3e67d",
   "metadata": {},
   "outputs": [
    {
     "data": {
      "text/html": [
       "<div>\n",
       "<style scoped>\n",
       "    .dataframe tbody tr th:only-of-type {\n",
       "        vertical-align: middle;\n",
       "    }\n",
       "\n",
       "    .dataframe tbody tr th {\n",
       "        vertical-align: top;\n",
       "    }\n",
       "\n",
       "    .dataframe thead th {\n",
       "        text-align: right;\n",
       "    }\n",
       "</style>\n",
       "<table border=\"1\" class=\"dataframe\">\n",
       "  <thead>\n",
       "    <tr style=\"text-align: right;\">\n",
       "      <th></th>\n",
       "      <th>USER_ID</th>\n",
       "      <th>USER_NAME</th>\n",
       "      <th>AGE</th>\n",
       "      <th>GENDER</th>\n",
       "    </tr>\n",
       "  </thead>\n",
       "  <tbody>\n",
       "    <tr>\n",
       "      <th>0</th>\n",
       "      <td>1</td>\n",
       "      <td>user1</td>\n",
       "      <td>31</td>\n",
       "      <td>M</td>\n",
       "    </tr>\n",
       "    <tr>\n",
       "      <th>1</th>\n",
       "      <td>2</td>\n",
       "      <td>user2</td>\n",
       "      <td>58</td>\n",
       "      <td>F</td>\n",
       "    </tr>\n",
       "    <tr>\n",
       "      <th>2</th>\n",
       "      <td>3</td>\n",
       "      <td>user3</td>\n",
       "      <td>43</td>\n",
       "      <td>M</td>\n",
       "    </tr>\n",
       "    <tr>\n",
       "      <th>3</th>\n",
       "      <td>4</td>\n",
       "      <td>user4</td>\n",
       "      <td>38</td>\n",
       "      <td>M</td>\n",
       "    </tr>\n",
       "    <tr>\n",
       "      <th>4</th>\n",
       "      <td>5</td>\n",
       "      <td>user5</td>\n",
       "      <td>24</td>\n",
       "      <td>M</td>\n",
       "    </tr>\n",
       "    <tr>\n",
       "      <th>...</th>\n",
       "      <td>...</td>\n",
       "      <td>...</td>\n",
       "      <td>...</td>\n",
       "      <td>...</td>\n",
       "    </tr>\n",
       "    <tr>\n",
       "      <th>5245</th>\n",
       "      <td>5246</td>\n",
       "      <td>user5246</td>\n",
       "      <td>37</td>\n",
       "      <td>M</td>\n",
       "    </tr>\n",
       "    <tr>\n",
       "      <th>5246</th>\n",
       "      <td>5247</td>\n",
       "      <td>user5247</td>\n",
       "      <td>46</td>\n",
       "      <td>M</td>\n",
       "    </tr>\n",
       "    <tr>\n",
       "      <th>5247</th>\n",
       "      <td>5248</td>\n",
       "      <td>user5248</td>\n",
       "      <td>50</td>\n",
       "      <td>M</td>\n",
       "    </tr>\n",
       "    <tr>\n",
       "      <th>5248</th>\n",
       "      <td>5249</td>\n",
       "      <td>user5249</td>\n",
       "      <td>33</td>\n",
       "      <td>M</td>\n",
       "    </tr>\n",
       "    <tr>\n",
       "      <th>5249</th>\n",
       "      <td>5250</td>\n",
       "      <td>user5250</td>\n",
       "      <td>34</td>\n",
       "      <td>F</td>\n",
       "    </tr>\n",
       "  </tbody>\n",
       "</table>\n",
       "<p>5250 rows × 4 columns</p>\n",
       "</div>"
      ],
      "text/plain": [
       "     USER_ID USER_NAME  AGE GENDER\n",
       "0          1     user1   31      M\n",
       "1          2     user2   58      F\n",
       "2          3     user3   43      M\n",
       "3          4     user4   38      M\n",
       "4          5     user5   24      M\n",
       "...      ...       ...  ...    ...\n",
       "5245    5246  user5246   37      M\n",
       "5246    5247  user5247   46      M\n",
       "5247    5248  user5248   50      M\n",
       "5248    5249  user5249   33      M\n",
       "5249    5250  user5250   34      F\n",
       "\n",
       "[5250 rows x 4 columns]"
      ]
     },
     "execution_count": 5,
     "metadata": {},
     "output_type": "execute_result"
    }
   ],
   "source": [
    "users_df"
   ]
  },
  {
   "cell_type": "markdown",
   "id": "a20f355c-4d3d-4a3b-bb95-4dafc3c0fbca",
   "metadata": {},
   "source": [
    "## 2. 데이터 분리\n",
    "\n",
    "이 데이터에는 UserID, ItemID, Event_Type 및 Timestamp 컬럼이 포함되어 있습니다.<br>\n",
    "\n",
    "- 시간순으로 정렬한 후에 90%는 학습용 데이터로, 마지막 최근 10% 데이터를 검증용 데이터로 분리합니다."
   ]
  },
  {
   "cell_type": "markdown",
   "id": "30aeb4af-bae3-4b35-8a00-4d0bc91dae9c",
   "metadata": {},
   "source": [
    "#### Data Set을 Train, Validation(holdout) 데이터 분리하기 \n",
    "\n",
    "모든 사용자의 마지막(Timestamp기준으로) 10%의 데이터를 Validation(Holdout) 데이터로 분리합니다."
   ]
  },
  {
   "cell_type": "code",
   "execution_count": 6,
   "id": "d25a209f-9745-4147-8f71-bd3f925d3893",
   "metadata": {},
   "outputs": [],
   "source": [
    "pd.options.display.max_rows = 5\n",
    "def split_holdout(data, pct):\n",
    "    df = data.copy()\n",
    "    # Rank per each subgroup, 'USER_ID'\n",
    "    ranks = df.groupby('USER_ID').TIMESTAMP.rank(pct=True, method='first')\n",
    "    df = df.join((ranks> pct).to_frame('holdout'))\n",
    "    \n",
    "    holdout = df[df['holdout']].drop('holdout', axis=1)\n",
    "    train = df[~df['holdout']].drop('holdout', axis=1)    \n",
    "    \n",
    "    return train, holdout\n",
    "\n",
    "df_warm_train, df_warm_holdout = split_holdout(interactions_df, pct=0.9)"
   ]
  },
  {
   "cell_type": "markdown",
   "id": "40e65684-251e-434c-b87f-590e19ceafba",
   "metadata": {},
   "source": [
    "train 과 holdout의 분리된 데이타의 정보입니다. holdout은 대략 전체 대비 10%의 Row의 갯수 입니다. holdout의 timestamp는 train보다 미래의 숫자인 것을 인지할 수 있습니다. (숫자가 많은 것이 더 미래의 날짜를 의미함)"
   ]
  },
  {
   "cell_type": "code",
   "execution_count": 7,
   "id": "4bcdf3ed-fbdd-46e9-b6b0-b506c53456ff",
   "metadata": {},
   "outputs": [
    {
     "name": "stdout",
     "output_type": "stream",
     "text": [
      "<class 'pandas.core.frame.DataFrame'>\n",
      "Int64Index: 526581 entries, 0 to 664340\n",
      "Data columns (total 4 columns):\n",
      " #   Column      Non-Null Count   Dtype \n",
      "---  ------      --------------   ----- \n",
      " 0   ITEM_ID     526581 non-null  object\n",
      " 1   USER_ID     526581 non-null  object\n",
      " 2   EVENT_TYPE  526581 non-null  object\n",
      " 3   TIMESTAMP   526581 non-null  int64 \n",
      "dtypes: int64(1), object(3)\n",
      "memory usage: 20.1+ MB\n"
     ]
    },
    {
     "data": {
      "text/plain": [
       "ITEM_ID         2449\n",
       "USER_ID         5250\n",
       "EVENT_TYPE         2\n",
       "TIMESTAMP     282956\n",
       "dtype: int64"
      ]
     },
     "execution_count": 7,
     "metadata": {},
     "output_type": "execute_result"
    }
   ],
   "source": [
    "df_warm_train.info()\n",
    "df_warm_train.nunique()"
   ]
  },
  {
   "cell_type": "code",
   "execution_count": 8,
   "id": "34257a29-6616-4e9b-86f5-8efc552656a2",
   "metadata": {},
   "outputs": [
    {
     "name": "stdout",
     "output_type": "stream",
     "text": [
      "<class 'pandas.core.frame.DataFrame'>\n",
      "Int64Index: 61138 entries, 432222 to 675003\n",
      "Data columns (total 4 columns):\n",
      " #   Column      Non-Null Count  Dtype \n",
      "---  ------      --------------  ----- \n",
      " 0   ITEM_ID     61138 non-null  object\n",
      " 1   USER_ID     61138 non-null  object\n",
      " 2   EVENT_TYPE  61138 non-null  object\n",
      " 3   TIMESTAMP   61138 non-null  int64 \n",
      "dtypes: int64(1), object(3)\n",
      "memory usage: 2.3+ MB\n"
     ]
    },
    {
     "data": {
      "text/plain": [
       "ITEM_ID        2446\n",
       "USER_ID        5250\n",
       "EVENT_TYPE        2\n",
       "TIMESTAMP     34393\n",
       "dtype: int64"
      ]
     },
     "execution_count": 8,
     "metadata": {},
     "output_type": "execute_result"
    }
   ],
   "source": [
    "df_warm_holdout.info()\n",
    "df_warm_holdout.nunique()"
   ]
  },
  {
   "cell_type": "code",
   "execution_count": 9,
   "id": "4ceb5711-76bf-4f93-8c5a-833e8531bcb1",
   "metadata": {},
   "outputs": [
    {
     "data": {
      "text/html": [
       "<div>\n",
       "<style scoped>\n",
       "    .dataframe tbody tr th:only-of-type {\n",
       "        vertical-align: middle;\n",
       "    }\n",
       "\n",
       "    .dataframe tbody tr th {\n",
       "        vertical-align: top;\n",
       "    }\n",
       "\n",
       "    .dataframe thead th {\n",
       "        text-align: right;\n",
       "    }\n",
       "</style>\n",
       "<table border=\"1\" class=\"dataframe\">\n",
       "  <thead>\n",
       "    <tr style=\"text-align: right;\">\n",
       "      <th></th>\n",
       "      <th>ITEM_ID</th>\n",
       "      <th>USER_ID</th>\n",
       "      <th>EVENT_TYPE</th>\n",
       "      <th>TIMESTAMP</th>\n",
       "    </tr>\n",
       "  </thead>\n",
       "  <tbody>\n",
       "    <tr>\n",
       "      <th>21464</th>\n",
       "      <td>35efa417-357d-465e-99cb-b208bbc63f8b</td>\n",
       "      <td>1</td>\n",
       "      <td>View</td>\n",
       "      <td>1592007327</td>\n",
       "    </tr>\n",
       "    <tr>\n",
       "      <th>21465</th>\n",
       "      <td>35efa417-357d-465e-99cb-b208bbc63f8b</td>\n",
       "      <td>1</td>\n",
       "      <td>View</td>\n",
       "      <td>1592007327</td>\n",
       "    </tr>\n",
       "    <tr>\n",
       "      <th>...</th>\n",
       "      <td>...</td>\n",
       "      <td>...</td>\n",
       "      <td>...</td>\n",
       "      <td>...</td>\n",
       "    </tr>\n",
       "    <tr>\n",
       "      <th>585017</th>\n",
       "      <td>072ded32-2903-4f35-9f28-d6284c5f5605</td>\n",
       "      <td>5250</td>\n",
       "      <td>View</td>\n",
       "      <td>1597351374</td>\n",
       "    </tr>\n",
       "    <tr>\n",
       "      <th>585018</th>\n",
       "      <td>072ded32-2903-4f35-9f28-d6284c5f5605</td>\n",
       "      <td>5250</td>\n",
       "      <td>View</td>\n",
       "      <td>1597351374</td>\n",
       "    </tr>\n",
       "  </tbody>\n",
       "</table>\n",
       "<p>526581 rows × 4 columns</p>\n",
       "</div>"
      ],
      "text/plain": [
       "                                     ITEM_ID USER_ID EVENT_TYPE   TIMESTAMP\n",
       "21464   35efa417-357d-465e-99cb-b208bbc63f8b       1       View  1592007327\n",
       "21465   35efa417-357d-465e-99cb-b208bbc63f8b       1       View  1592007327\n",
       "...                                      ...     ...        ...         ...\n",
       "585017  072ded32-2903-4f35-9f28-d6284c5f5605    5250       View  1597351374\n",
       "585018  072ded32-2903-4f35-9f28-d6284c5f5605    5250       View  1597351374\n",
       "\n",
       "[526581 rows x 4 columns]"
      ]
     },
     "execution_count": 9,
     "metadata": {},
     "output_type": "execute_result"
    }
   ],
   "source": [
    "df_warm_train.sort_values(['USER_ID','TIMESTAMP'])"
   ]
  },
  {
   "cell_type": "code",
   "execution_count": 10,
   "id": "597d846f-87ee-4d1c-8787-c6d0a50baa7a",
   "metadata": {},
   "outputs": [
    {
     "data": {
      "text/html": [
       "<div>\n",
       "<style scoped>\n",
       "    .dataframe tbody tr th:only-of-type {\n",
       "        vertical-align: middle;\n",
       "    }\n",
       "\n",
       "    .dataframe tbody tr th {\n",
       "        vertical-align: top;\n",
       "    }\n",
       "\n",
       "    .dataframe thead th {\n",
       "        text-align: right;\n",
       "    }\n",
       "</style>\n",
       "<table border=\"1\" class=\"dataframe\">\n",
       "  <thead>\n",
       "    <tr style=\"text-align: right;\">\n",
       "      <th></th>\n",
       "      <th>ITEM_ID</th>\n",
       "      <th>USER_ID</th>\n",
       "      <th>EVENT_TYPE</th>\n",
       "      <th>TIMESTAMP</th>\n",
       "    </tr>\n",
       "  </thead>\n",
       "  <tbody>\n",
       "    <tr>\n",
       "      <th>612212</th>\n",
       "      <td>be14695b-f8cb-46b8-aecd-ef28f0218514</td>\n",
       "      <td>1</td>\n",
       "      <td>View</td>\n",
       "      <td>1597609245</td>\n",
       "    </tr>\n",
       "    <tr>\n",
       "      <th>621508</th>\n",
       "      <td>079ab14b-3435-4a95-ba1d-fc0b21e0cf4b</td>\n",
       "      <td>1</td>\n",
       "      <td>View</td>\n",
       "      <td>1597697421</td>\n",
       "    </tr>\n",
       "    <tr>\n",
       "      <th>...</th>\n",
       "      <td>...</td>\n",
       "      <td>...</td>\n",
       "      <td>...</td>\n",
       "      <td>...</td>\n",
       "    </tr>\n",
       "    <tr>\n",
       "      <th>609116</th>\n",
       "      <td>e66109bf-9ad5-430a-90e5-900c00119f39</td>\n",
       "      <td>5250</td>\n",
       "      <td>View</td>\n",
       "      <td>1597579890</td>\n",
       "    </tr>\n",
       "    <tr>\n",
       "      <th>662349</th>\n",
       "      <td>072ded32-2903-4f35-9f28-d6284c5f5605</td>\n",
       "      <td>5250</td>\n",
       "      <td>View</td>\n",
       "      <td>1598084705</td>\n",
       "    </tr>\n",
       "  </tbody>\n",
       "</table>\n",
       "<p>61138 rows × 4 columns</p>\n",
       "</div>"
      ],
      "text/plain": [
       "                                     ITEM_ID USER_ID EVENT_TYPE   TIMESTAMP\n",
       "612212  be14695b-f8cb-46b8-aecd-ef28f0218514       1       View  1597609245\n",
       "621508  079ab14b-3435-4a95-ba1d-fc0b21e0cf4b       1       View  1597697421\n",
       "...                                      ...     ...        ...         ...\n",
       "609116  e66109bf-9ad5-430a-90e5-900c00119f39    5250       View  1597579890\n",
       "662349  072ded32-2903-4f35-9f28-d6284c5f5605    5250       View  1598084705\n",
       "\n",
       "[61138 rows x 4 columns]"
      ]
     },
     "execution_count": 10,
     "metadata": {},
     "output_type": "execute_result"
    }
   ],
   "source": [
    "df_warm_holdout.sort_values(['USER_ID','TIMESTAMP'])"
   ]
  },
  {
   "cell_type": "markdown",
   "id": "13825c3c-c0be-4c73-8a9a-e0323ffdcc7c",
   "metadata": {},
   "source": [
    "## 3. 로컬에 train, item, validation(holdout) 및 coldstart 를 CSV 저장\n",
    "\n",
    "완료되면 파일을 새 CSV로 저장한 다음, S3에 업로드합니다.<br>"
   ]
  },
  {
   "cell_type": "code",
   "execution_count": 11,
   "id": "47007884-5318-420e-94a5-b1029bb85a7b",
   "metadata": {},
   "outputs": [],
   "source": [
    "import os\n",
    "os.makedirs('dataset', exist_ok=True)"
   ]
  },
  {
   "cell_type": "markdown",
   "id": "90877fb9-2298-4771-bdb9-863429f8ba97",
   "metadata": {},
   "source": [
    "train, item, validation(holdout) 데이터를 로컬에 csv 파일로 저장 합니다."
   ]
  },
  {
   "cell_type": "code",
   "execution_count": 12,
   "id": "d8e34dbe-9bb7-4e5a-a797-0db5778e9848",
   "metadata": {},
   "outputs": [],
   "source": [
    "# train, item, validation 로컬 저장\n",
    "warm_train_interaction_filename=\"dataset/training_interaction.csv\"\n",
    "items_filename=\"dataset/training_item.csv\"\n",
    "users_filename=\"dataset/training_user.csv\"\n",
    "validation_interaction_filename=\"dataset/validation_interaction.csv\"\n",
    "\n",
    "df_warm_train.to_csv(warm_train_interaction_filename,index=False)\n",
    "items_df.to_csv(items_filename,index=False)\n",
    "users_df.to_csv(users_filename,index=False)\n",
    "df_warm_holdout.to_csv(validation_interaction_filename,index=False)    "
   ]
  },
  {
   "cell_type": "code",
   "execution_count": 13,
   "id": "3e87854f-f1ee-46a0-a1dd-de053a7f817e",
   "metadata": {},
   "outputs": [],
   "source": [
    "# warm data set 로컬 저장\n",
    "warm_interation_filename=\"dataset/warm_interaction.csv\"\n",
    "interactions_df.to_csv(warm_interation_filename,index=False)\n"
   ]
  },
  {
   "cell_type": "markdown",
   "id": "b085bdc1-695a-4b5b-b13f-4685ac4adebe",
   "metadata": {},
   "source": [
    "## 4. S3에 로컬 CSV 업로드"
   ]
  },
  {
   "cell_type": "code",
   "execution_count": 14,
   "id": "e2721696-5b3f-4f66-8206-0279188b792b",
   "metadata": {},
   "outputs": [],
   "source": [
    "import sagemaker\n",
    "#bucket='<YOUR BUCKET NAME>' # replace with the name of your S3 bucket\n",
    "bucket = sagemaker.Session().default_bucket() "
   ]
  },
  {
   "cell_type": "code",
   "execution_count": 15,
   "id": "c9e6eb7c-8303-44b5-83b1-a559dccd378c",
   "metadata": {},
   "outputs": [
    {
     "name": "stdout",
     "output_type": "stream",
     "text": [
      "s3_warm_train_interaction_filename: \n",
      " s3://sagemaker-us-east-1-376278017302/dataset/training_interaction.csv\n",
      "s3_items_filename: \n",
      " s3://sagemaker-us-east-1-376278017302/dataset/training_item.csv\n",
      "s3_users_filename: \n",
      " s3://sagemaker-us-east-1-376278017302/dataset/training_user.csv\n"
     ]
    }
   ],
   "source": [
    "#upload file for training\n",
    "response_upload = boto3.Session().resource('s3').Bucket(bucket).Object(warm_train_interaction_filename).upload_file(warm_train_interaction_filename)\n",
    "boto3.Session().resource('s3').Bucket(bucket).Object(users_filename).upload_file(users_filename)\n",
    "boto3.Session().resource('s3').Bucket(bucket).Object(items_filename).upload_file(items_filename)\n",
    "\n",
    "s3_warm_train_interaction_filename = \"s3://{}/{}\".format(bucket, warm_train_interaction_filename)\n",
    "s3_items_filename = \"s3://{}/{}\".format(bucket, items_filename)\n",
    "s3_users_filename = \"s3://{}/{}\".format(bucket, users_filename)\n",
    "\n",
    "print(\"s3_warm_train_interaction_filename: \\n\", s3_warm_train_interaction_filename)\n",
    "print(\"s3_items_filename: \\n\", s3_items_filename)\n",
    "print(\"s3_users_filename: \\n\", s3_users_filename)"
   ]
  },
  {
   "cell_type": "code",
   "execution_count": 16,
   "id": "06c01fcc-0c05-48f8-9254-247dbb2bd749",
   "metadata": {},
   "outputs": [
    {
     "name": "stdout",
     "output_type": "stream",
     "text": [
      "2023-02-28 11:52:53   30451496 dataset/training_interaction.csv\n",
      "2023-02-28 11:52:54     315329 dataset/training_item.csv\n",
      "2023-02-28 11:52:54      97565 dataset/training_user.csv\n"
     ]
    }
   ],
   "source": [
    "! aws s3 ls {s3_warm_train_interaction_filename} --recursive\n",
    "! aws s3 ls {s3_items_filename} --recursive\n",
    "! aws s3 ls {s3_users_filename} --recursive"
   ]
  },
  {
   "cell_type": "markdown",
   "id": "ff28e287-f587-46c7-91bd-65c5c05db9d8",
   "metadata": {},
   "source": [
    "## 5. 변수 저장\n",
    "\n",
    "다음 노트북에서 활용할 변수를 저장 합니다."
   ]
  },
  {
   "cell_type": "code",
   "execution_count": 17,
   "id": "e871873e-69d8-46f2-9874-1946111e252e",
   "metadata": {},
   "outputs": [
    {
     "name": "stdout",
     "output_type": "stream",
     "text": [
      "Stored 'bucket' (str)\n",
      "Stored 's3_warm_train_interaction_filename' (str)\n",
      "Stored 's3_users_filename' (str)\n",
      "Stored 's3_items_filename' (str)\n",
      "Stored 'warm_train_interaction_filename' (str)\n",
      "Stored 'items_filename' (str)\n",
      "Stored 'users_filename' (str)\n",
      "Stored 'validation_interaction_filename' (str)\n",
      "Stored 'warm_interation_filename' (str)\n"
     ]
    }
   ],
   "source": [
    "%store bucket\n",
    "%store s3_warm_train_interaction_filename\n",
    "%store s3_users_filename\n",
    "%store s3_items_filename\n",
    "%store warm_train_interaction_filename\n",
    "%store items_filename\n",
    "%store users_filename\n",
    "%store validation_interaction_filename\n",
    "\n",
    "%store warm_interation_filename"
   ]
  }
 ],
 "metadata": {
  "kernelspec": {
   "display_name": "conda_python3",
   "language": "python",
   "name": "conda_python3"
  },
  "language_info": {
   "codemirror_mode": {
    "name": "ipython",
    "version": 3
   },
   "file_extension": ".py",
   "mimetype": "text/x-python",
   "name": "python",
   "nbconvert_exporter": "python",
   "pygments_lexer": "ipython3",
   "version": "3.10.6"
  }
 },
 "nbformat": 4,
 "nbformat_minor": 5
}
