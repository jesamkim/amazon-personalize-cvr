{
 "cells": [
  {
   "cell_type": "markdown",
   "id": "df50504b-9d55-47f9-bdd0-9a14338d9ed7",
   "metadata": {},
   "source": [
    "# Module 6. 리소스 삭제\n",
    "\n",
    "모델을 구축한 후 캠페인(campaign), 솔루션(solution) 및 데이터셋(dataset)을 삭제할 수 있습니다. 다음 셀은 이 핸즈온에서 생성한 모든 리소스를 삭제합니다.\n",
    "\n",
    "## 라이브러리 임포트 및 AWS 연결 \n",
    "\n",
    "아래 코드 셀은 필요한 모든 라이브러리를 가져온 다음 Amazon Personalize에 연결합니다."
   ]
  },
  {
   "cell_type": "code",
   "execution_count": 1,
   "id": "973d7e56-8f9a-400d-bd0b-d743ca2234a5",
   "metadata": {},
   "outputs": [],
   "source": [
    "# Imports\n",
    "import boto3\n",
    "import json\n",
    "import numpy as np\n",
    "import pandas as pd\n",
    "import time"
   ]
  },
  {
   "cell_type": "code",
   "execution_count": 2,
   "id": "df7c6235-f01b-4543-84a9-e95974c7ed48",
   "metadata": {},
   "outputs": [],
   "source": [
    "# Configure the SDK to Personalize:\n",
    "personalize = boto3.client('personalize')\n",
    "personalize_runtime = boto3.client('personalize-runtime')"
   ]
  },
  {
   "cell_type": "code",
   "execution_count": 3,
   "id": "33f0273a-0396-4967-9714-58d5c487b940",
   "metadata": {},
   "outputs": [],
   "source": [
    "%store -r"
   ]
  },
  {
   "cell_type": "markdown",
   "id": "7a147353-1ae8-4252-905e-1dc3ec127f4e",
   "metadata": {},
   "source": [
    "# 1. Campaign 삭제"
   ]
  },
  {
   "cell_type": "code",
   "execution_count": 4,
   "id": "98b8fb0d-3df8-4652-92f3-85ef9de7e0ff",
   "metadata": {},
   "outputs": [],
   "source": [
    "# Delete the campaign:\n",
    "personalize.delete_campaign(campaignArn=campaign_arn)\n",
    "time.sleep(300)"
   ]
  },
  {
   "cell_type": "markdown",
   "id": "08d9d7b4-48bd-433f-9433-556cd1f0f01f",
   "metadata": {},
   "source": [
    "# 2. Solution 삭제"
   ]
  },
  {
   "cell_type": "code",
   "execution_count": 5,
   "id": "e2fc1ac7-2c51-4e07-9544-477d23d7ce99",
   "metadata": {},
   "outputs": [],
   "source": [
    "# Delete the Solution:\n",
    "personalize.delete_solution(solutionArn=solution_arn)\n",
    "time.sleep(100)"
   ]
  },
  {
   "cell_type": "markdown",
   "id": "c3c42105-cc88-4007-8bb9-9c2b45d0af8d",
   "metadata": {},
   "source": [
    "# 3. Interactions, Users, Items 데이터 셋 삭제"
   ]
  },
  {
   "cell_type": "code",
   "execution_count": 6,
   "id": "fed3b5b0-60b7-4d7d-a726-81e51445e7f7",
   "metadata": {},
   "outputs": [
    {
     "data": {
      "text/plain": [
       "{'ResponseMetadata': {'RequestId': '3ead8cca-37f4-4762-8a50-381d80252ec2',\n",
       "  'HTTPStatusCode': 200,\n",
       "  'HTTPHeaders': {'date': 'Tue, 28 Feb 2023 14:00:25 GMT',\n",
       "   'content-type': 'application/x-amz-json-1.1',\n",
       "   'content-length': '0',\n",
       "   'connection': 'keep-alive',\n",
       "   'x-amzn-requestid': '3ead8cca-37f4-4762-8a50-381d80252ec2'},\n",
       "  'RetryAttempts': 0}}"
      ]
     },
     "execution_count": 6,
     "metadata": {},
     "output_type": "execute_result"
    }
   ],
   "source": [
    "# Delete the interaction dataset\n",
    "personalize.delete_dataset(datasetArn=interaction_dataset_arn)"
   ]
  },
  {
   "cell_type": "code",
   "execution_count": 7,
   "id": "9b61d832-6f13-46cb-bbe5-168f3249e1fd",
   "metadata": {},
   "outputs": [
    {
     "data": {
      "text/plain": [
       "{'ResponseMetadata': {'RequestId': '3c01b4d9-c08b-49a9-9604-867e2cee47db',\n",
       "  'HTTPStatusCode': 200,\n",
       "  'HTTPHeaders': {'date': 'Tue, 28 Feb 2023 14:00:26 GMT',\n",
       "   'content-type': 'application/x-amz-json-1.1',\n",
       "   'content-length': '0',\n",
       "   'connection': 'keep-alive',\n",
       "   'x-amzn-requestid': '3c01b4d9-c08b-49a9-9604-867e2cee47db'},\n",
       "  'RetryAttempts': 0}}"
      ]
     },
     "execution_count": 7,
     "metadata": {},
     "output_type": "execute_result"
    }
   ],
   "source": [
    "# Delete the item dataset\n",
    "personalize.delete_dataset(datasetArn=item_dataset_arn)"
   ]
  },
  {
   "cell_type": "code",
   "execution_count": 8,
   "id": "b44abe34-c8b5-43e8-9ce5-58efa4bc2fcd",
   "metadata": {},
   "outputs": [],
   "source": [
    "# Delete the item dataset\n",
    "personalize.delete_dataset(datasetArn=user_dataset_arn)\n",
    "time.sleep(60)"
   ]
  },
  {
   "cell_type": "markdown",
   "id": "553e7638-ab08-4e72-8470-4012d71c9e23",
   "metadata": {},
   "source": [
    "# 4. Schema 삭제"
   ]
  },
  {
   "cell_type": "code",
   "execution_count": 16,
   "id": "253e4b3a-0732-40e9-bd69-bd0ae295d401",
   "metadata": {},
   "outputs": [
    {
     "data": {
      "text/plain": [
       "{'ResponseMetadata': {'RequestId': '9ed5b934-42c3-4170-8608-c593a1722973',\n",
       "  'HTTPStatusCode': 200,\n",
       "  'HTTPHeaders': {'date': 'Tue, 28 Feb 2023 14:09:01 GMT',\n",
       "   'content-type': 'application/x-amz-json-1.1',\n",
       "   'content-length': '0',\n",
       "   'connection': 'keep-alive',\n",
       "   'x-amzn-requestid': '9ed5b934-42c3-4170-8608-c593a1722973'},\n",
       "  'RetryAttempts': 0}}"
      ]
     },
     "execution_count": 16,
     "metadata": {},
     "output_type": "execute_result"
    }
   ],
   "source": [
    "# Delete the schema\n",
    "personalize.delete_schema(schemaArn=interaction_schema_arn)"
   ]
  },
  {
   "cell_type": "code",
   "execution_count": 17,
   "id": "584bd758-716e-4c7e-9392-1924e856c01d",
   "metadata": {},
   "outputs": [
    {
     "data": {
      "text/plain": [
       "{'ResponseMetadata': {'RequestId': '88b79e27-034f-4951-9014-677fc169e941',\n",
       "  'HTTPStatusCode': 200,\n",
       "  'HTTPHeaders': {'date': 'Tue, 28 Feb 2023 14:09:02 GMT',\n",
       "   'content-type': 'application/x-amz-json-1.1',\n",
       "   'content-length': '0',\n",
       "   'connection': 'keep-alive',\n",
       "   'x-amzn-requestid': '88b79e27-034f-4951-9014-677fc169e941'},\n",
       "  'RetryAttempts': 0}}"
      ]
     },
     "execution_count": 17,
     "metadata": {},
     "output_type": "execute_result"
    }
   ],
   "source": [
    "personalize.delete_schema(schemaArn=item_schema_arn)"
   ]
  },
  {
   "cell_type": "code",
   "execution_count": 18,
   "id": "e6a32426-61cc-45b7-a997-473a6700dbac",
   "metadata": {},
   "outputs": [
    {
     "data": {
      "text/plain": [
       "{'ResponseMetadata': {'RequestId': '753af634-1ca4-4463-af59-798012c509e2',\n",
       "  'HTTPStatusCode': 200,\n",
       "  'HTTPHeaders': {'date': 'Tue, 28 Feb 2023 14:09:03 GMT',\n",
       "   'content-type': 'application/x-amz-json-1.1',\n",
       "   'content-length': '0',\n",
       "   'connection': 'keep-alive',\n",
       "   'x-amzn-requestid': '753af634-1ca4-4463-af59-798012c509e2'},\n",
       "  'RetryAttempts': 0}}"
      ]
     },
     "execution_count": 18,
     "metadata": {},
     "output_type": "execute_result"
    }
   ],
   "source": [
    "personalize.delete_schema(schemaArn=user_schema_arn)"
   ]
  },
  {
   "cell_type": "code",
   "execution_count": 19,
   "id": "1b5abf9a-f744-42db-b00a-b42a93ea6d32",
   "metadata": {},
   "outputs": [],
   "source": [
    "# Delete the DatasetGroup\n",
    "personalize.delete_dataset_group(\n",
    "    datasetGroupArn=dataset_group_arn\n",
    ")\n",
    "time.sleep(20)"
   ]
  },
  {
   "cell_type": "markdown",
   "id": "f4191ce8-9e49-4504-8820-fc8a1ed17266",
   "metadata": {},
   "source": [
    "# 5. S3 파일(csv) 삭제"
   ]
  },
  {
   "cell_type": "code",
   "execution_count": 22,
   "id": "859a0bd3-e3ed-4736-bc99-d88e9692126b",
   "metadata": {},
   "outputs": [
    {
     "name": "stdout",
     "output_type": "stream",
     "text": [
      "delete: s3://sagemaker-us-east-1-376278017302/dataset/training_user.csv\n",
      "delete: s3://sagemaker-us-east-1-376278017302/dataset/training_item.csv\n",
      "delete: s3://sagemaker-us-east-1-376278017302/dataset/training_interaction.csv\n"
     ]
    }
   ],
   "source": [
    "s3_path = \"s3://{}/{}/\".format(bucket, 'dataset')\n",
    "\n",
    "! aws s3 rm {s3_path} --recursive"
   ]
  },
  {
   "cell_type": "markdown",
   "id": "267b724c-caad-480b-9a7c-e85436cd35c9",
   "metadata": {
    "tags": []
   },
   "source": [
    "### 디스크 저장 변수 삭제\n",
    "\n",
    "디스크에 저장된 변수들을 모두 지웁니다."
   ]
  },
  {
   "cell_type": "code",
   "execution_count": 23,
   "id": "c09d2261-2a45-498b-88ac-faeed40f274b",
   "metadata": {},
   "outputs": [],
   "source": [
    "%store -z"
   ]
  },
  {
   "cell_type": "code",
   "execution_count": null,
   "id": "21678f54-1178-44b4-83d5-3af7b6eff7d9",
   "metadata": {},
   "outputs": [],
   "source": []
  }
 ],
 "metadata": {
  "kernelspec": {
   "display_name": "conda_python3",
   "language": "python",
   "name": "conda_python3"
  },
  "language_info": {
   "codemirror_mode": {
    "name": "ipython",
    "version": 3
   },
   "file_extension": ".py",
   "mimetype": "text/x-python",
   "name": "python",
   "nbconvert_exporter": "python",
   "pygments_lexer": "ipython3",
   "version": "3.10.6"
  }
 },
 "nbformat": 4,
 "nbformat_minor": 5
}
