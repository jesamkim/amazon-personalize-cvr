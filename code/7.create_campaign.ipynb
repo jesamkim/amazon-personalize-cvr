{
 "cells": [
  {
   "cell_type": "markdown",
   "id": "88389bab-5e71-40ce-be71-f37a28eba7d5",
   "metadata": {},
   "source": [
    "# [Module 7] Campaign 생성 \n",
    "\n",
    "이 노트북은 앞에서 생성한 데이타셋 그룹, 데이타셋을 바탕으로 아래와 같은 작업을 합니다."
   ]
  },
  {
   "cell_type": "markdown",
   "id": "ea6bfb3c-3706-42d1-a534-b66cfadd3118",
   "metadata": {},
   "source": [
    "## 0. 환경 설정"
   ]
  },
  {
   "cell_type": "code",
   "execution_count": 1,
   "id": "749a4870-9b26-4a25-8f22-5ad50561887a",
   "metadata": {},
   "outputs": [],
   "source": [
    "# Imports\n",
    "import boto3\n",
    "import json\n",
    "import numpy as np\n",
    "import pandas as pd\n",
    "import time"
   ]
  },
  {
   "cell_type": "code",
   "execution_count": 2,
   "id": "69a8e35c-789c-42b1-ac36-421f3ca66c38",
   "metadata": {},
   "outputs": [],
   "source": [
    "# Configure the SDK to Personalize:\n",
    "personalize = boto3.client('personalize')"
   ]
  },
  {
   "cell_type": "markdown",
   "id": "5dbe24ce-c5b1-42a2-9aec-db844cc4421f",
   "metadata": {},
   "source": [
    "아래 코드 셀은 이전 notebook에서 저장했던 공유 변수들을 불러옵니다."
   ]
  },
  {
   "cell_type": "code",
   "execution_count": 3,
   "id": "e30ef6b3-6ba3-41cc-b73a-51af84d4dd6f",
   "metadata": {},
   "outputs": [],
   "source": [
    "%store -r"
   ]
  },
  {
   "cell_type": "markdown",
   "id": "6363e7dc-d27d-4943-9382-8130070d8d49",
   "metadata": {},
   "source": [
    "## 1. 캠페인 생성 - Base 솔루션"
   ]
  },
  {
   "cell_type": "code",
   "execution_count": 4,
   "id": "0e923abe-727d-4d25-9ca3-ecd63a36a08c",
   "metadata": {},
   "outputs": [
    {
     "data": {
      "text/plain": [
       "'arn:aws:personalize:us-east-1:376278017302:solution/RetailDemo-user-personalization-base/ec505c6c'"
      ]
     },
     "execution_count": 4,
     "metadata": {},
     "output_type": "execute_result"
    }
   ],
   "source": [
    "solution_version_arn1"
   ]
  },
  {
   "cell_type": "code",
   "execution_count": 5,
   "id": "168e042a-1df4-4ce7-8daa-64673d3f582c",
   "metadata": {},
   "outputs": [
    {
     "data": {
      "text/plain": [
       "'arn:aws:personalize:us-east-1:376278017302:campaign/RetailDemo-campaign-base'"
      ]
     },
     "execution_count": 5,
     "metadata": {},
     "output_type": "execute_result"
    }
   ],
   "source": [
    "create_campaign_reponse = personalize.create_campaign(\n",
    "    name = 'RetailDemo-campaign-base',\n",
    "    solutionVersionArn = solution_version_arn1,\n",
    "    minProvisionedTPS=1\n",
    ")\n",
    "\n",
    "campaign_arn1 = create_campaign_reponse['campaignArn']\n",
    "\n",
    "campaign_arn1"
   ]
  },
  {
   "cell_type": "markdown",
   "id": "99d4e937-c81d-4e44-b3f9-8dcaf7c2e8e1",
   "metadata": {},
   "source": [
    "## 2. 캠페인 생성 - CVR 가중치 적용 솔루션"
   ]
  },
  {
   "cell_type": "code",
   "execution_count": 6,
   "id": "793f5d43-7c9f-41e5-8a58-5ae0f5c69d52",
   "metadata": {},
   "outputs": [
    {
     "data": {
      "text/plain": [
       "'arn:aws:personalize:us-east-1:376278017302:solution/RetailDemo-user-personalization-cvr/1164ad2a'"
      ]
     },
     "execution_count": 6,
     "metadata": {},
     "output_type": "execute_result"
    }
   ],
   "source": [
    "solution_version_arn2"
   ]
  },
  {
   "cell_type": "code",
   "execution_count": 7,
   "id": "2af9d1e2-2c11-40cd-ae86-5f145c7495bb",
   "metadata": {},
   "outputs": [
    {
     "data": {
      "text/plain": [
       "'arn:aws:personalize:us-east-1:376278017302:campaign/RetailDemo-campaign-cvr'"
      ]
     },
     "execution_count": 7,
     "metadata": {},
     "output_type": "execute_result"
    }
   ],
   "source": [
    "create_campaign_reponse = personalize.create_campaign(\n",
    "    name = 'RetailDemo-campaign-cvr',\n",
    "    solutionVersionArn = solution_version_arn2,\n",
    "    minProvisionedTPS=1\n",
    ")\n",
    "\n",
    "campaign_arn2 = create_campaign_reponse['campaignArn']\n",
    "\n",
    "campaign_arn2"
   ]
  },
  {
   "cell_type": "markdown",
   "id": "850ea6af-c4a4-403a-b5f9-ab2519cb1db6",
   "metadata": {},
   "source": [
    "## 다음 노트북에 대한 참고 사항\n",
    "\n",
    "다음 실습에 필요한 몇 가지 값들이 있습니다. 아래 셀을 실행하여 저장한 후, 다음 주피터 노트북에서 그대로 사용할 수 있습니다."
   ]
  },
  {
   "cell_type": "code",
   "execution_count": 8,
   "id": "08147d8c-854b-4169-b17e-54661a4d9e2b",
   "metadata": {},
   "outputs": [
    {
     "name": "stdout",
     "output_type": "stream",
     "text": [
      "Stored 'campaign_arn1' (str)\n",
      "Stored 'campaign_arn2' (str)\n"
     ]
    }
   ],
   "source": [
    "%store campaign_arn1\n",
    "%store campaign_arn2"
   ]
  },
  {
   "cell_type": "markdown",
   "id": "28fc6f62-7f5d-4eb1-b3bc-8274bdf7939c",
   "metadata": {},
   "source": [
    "## 2. 캠페인 생성 확인 하기"
   ]
  },
  {
   "cell_type": "code",
   "execution_count": 9,
   "id": "3214a591-dc72-4e27-8ab2-1dc8507f9e31",
   "metadata": {},
   "outputs": [
    {
     "name": "stdout",
     "output_type": "stream",
     "text": [
      "status_creating_campaign : CREATE PENDING\n",
      "-------------------------------------->\n",
      "status_creating_campaign : CREATE IN_PROGRESS\n",
      "-------------------------------------->\n",
      "status_creating_campaign : CREATE IN_PROGRESS\n",
      "-------------------------------------->\n",
      "status_creating_campaign : CREATE IN_PROGRESS\n",
      "-------------------------------------->\n",
      "status_creating_campaign : CREATE IN_PROGRESS\n",
      "-------------------------------------->\n",
      "status_creating_campaign : CREATE IN_PROGRESS\n",
      "-------------------------------------->\n",
      "status_creating_campaign : CREATE IN_PROGRESS\n",
      "-------------------------------------->\n",
      "status_creating_campaign : CREATE IN_PROGRESS\n",
      "-------------------------------------->\n",
      "status_creating_campaign : CREATE IN_PROGRESS\n",
      "-------------------------------------->\n",
      "status_creating_campaign : CREATE IN_PROGRESS\n",
      "-------------------------------------->\n",
      "status_creating_campaign : CREATE IN_PROGRESS\n",
      "-------------------------------------->\n",
      "status_creating_campaign : ACTIVE\n",
      "Creating Campaign(base) is completed\n",
      "CPU times: user 112 ms, sys: 20.2 ms, total: 132 ms\n",
      "Wall time: 11min 1s\n"
     ]
    }
   ],
   "source": [
    "%%time\n",
    "\n",
    "max_time = time.time() + 3*60*60 # 3 hours\n",
    "while time.time() < max_time:\n",
    "\n",
    "    # status_aws_user_personalization\n",
    "    describe_campaign_response = personalize.describe_campaign(\n",
    "        campaignArn = campaign_arn1\n",
    "    )  \n",
    "    status_campaign = describe_campaign_response['campaign'][\"status\"]\n",
    "    print(\"status_creating_campaign : {}\".format(status_campaign))\n",
    "    \n",
    "        \n",
    "    if (status_campaign == \"ACTIVE\" or status_campaign == \"CREATE FAILED\") :\n",
    "        break\n",
    "    print(\"-------------------------------------->\")\n",
    "    time.sleep(60)\n",
    "\n",
    "print(\"Creating Campaign(base) is completed\")"
   ]
  },
  {
   "cell_type": "code",
   "execution_count": 10,
   "id": "4be2b033-d2d7-4ef7-923f-af570c194b4b",
   "metadata": {},
   "outputs": [
    {
     "name": "stdout",
     "output_type": "stream",
     "text": [
      "status_creating_campaign : ACTIVE\n",
      "Creating Campaign(cvr) is completed\n",
      "CPU times: user 2.52 ms, sys: 0 ns, total: 2.52 ms\n",
      "Wall time: 44 ms\n"
     ]
    }
   ],
   "source": [
    "%%time\n",
    "\n",
    "max_time = time.time() + 3*60*60 # 3 hours\n",
    "while time.time() < max_time:\n",
    "\n",
    "    # status_aws_user_personalization\n",
    "    describe_campaign_response = personalize.describe_campaign(\n",
    "        campaignArn = campaign_arn2\n",
    "    )  \n",
    "    status_campaign = describe_campaign_response['campaign'][\"status\"]\n",
    "    print(\"status_creating_campaign : {}\".format(status_campaign))\n",
    "    \n",
    "        \n",
    "    if (status_campaign == \"ACTIVE\" or status_campaign == \"CREATE FAILED\") :\n",
    "        break\n",
    "    print(\"-------------------------------------->\")\n",
    "    time.sleep(60)\n",
    "\n",
    "print(\"Creating Campaign(cvr) is completed\")"
   ]
  },
  {
   "cell_type": "code",
   "execution_count": null,
   "id": "c085c267-7798-4720-a56e-43d9fb4ebaf0",
   "metadata": {},
   "outputs": [],
   "source": []
  }
 ],
 "metadata": {
  "kernelspec": {
   "display_name": "conda_python3",
   "language": "python",
   "name": "conda_python3"
  },
  "language_info": {
   "codemirror_mode": {
    "name": "ipython",
    "version": 3
   },
   "file_extension": ".py",
   "mimetype": "text/x-python",
   "name": "python",
   "nbconvert_exporter": "python",
   "pygments_lexer": "ipython3",
   "version": "3.10.6"
  }
 },
 "nbformat": 4,
 "nbformat_minor": 5
}
